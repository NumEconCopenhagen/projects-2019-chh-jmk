{
 "cells": [
  {
   "cell_type": "markdown",
   "metadata": {},
   "source": [
    "# **Project 2: Model Analysis Project**"
   ]
  },
  {
   "cell_type": "markdown",
   "metadata": {},
   "source": [
    "**By Christian Hjorth Hansen and Jacob Mai Kaaber**"
   ]
  },
  {
   "cell_type": "markdown",
   "metadata": {},
   "source": [
    "## **Introduction**"
   ]
  },
  {
   "cell_type": "markdown",
   "metadata": {},
   "source": [
    "In this project we consider the consumer's choice problem with two goods and the firms maximization problem. We start by solving the consumer's problem for 2 different consumers, one with Cobb-Douglas preferences and the other with logarithmic preferences. Next, we find the social optimum for the two consumers. Lastly, we solve the firms maximization problem, where the reader can choose between the settings of a competitive market or a monopolistic market. This project is made as an interactive helping tool, such that the user can adjust the parameters to the user's function."
   ]
  },
  {
   "cell_type": "markdown",
   "metadata": {},
   "source": [
    "## **Importing necessary tools**"
   ]
  },
  {
   "cell_type": "markdown",
   "metadata": {},
   "source": [
    "We start by importing the tools, which we are going to use in this project."
   ]
  },
  {
   "cell_type": "code",
   "execution_count": 1,
   "metadata": {},
   "outputs": [],
   "source": [
    "import ipywidgets as widgets #For making widgets for the income and prices\n",
    "import matplotlib.pyplot as plt # For making plots\n",
    "from mpl_toolkits.mplot3d import Axes3D # This addition allows us to make 3D-plots\n",
    "import numpy as np # This is used, when we make graphs\n",
    "from scipy import optimize # This is used for solving the consumer's problem\n",
    "import warnings # We import this feature because we want to avoid printing a warning when dividing by 0\n",
    "warnings.filterwarnings(\"ignore\", category=RuntimeWarning) "
   ]
  },
  {
   "cell_type": "markdown",
   "metadata": {},
   "source": [
    "## **Consumer problems**"
   ]
  },
  {
   "cell_type": "markdown",
   "metadata": {},
   "source": [
    "### **Setting the prices**"
   ]
  },
  {
   "cell_type": "markdown",
   "metadata": {},
   "source": [
    "We solve the consumer problems for both consumers simultaniosly. The consumer on the left will be the one with cobb-douglas preferences and the one on the rigth is the consumer with the logarithmic preferences."
   ]
  },
  {
   "cell_type": "markdown",
   "metadata": {},
   "source": [
    "We start by implementing the two prices as widgets. There are two widgets for each variable. These are connected and will move simultaniosly, allowing for either setting the variables using the slider or writing a specific value using the text-widget."
   ]
  },
  {
   "cell_type": "code",
   "execution_count": 3,
   "metadata": {},
   "outputs": [
    {
     "name": "stdout",
     "output_type": "stream",
     "text": [
      "\u001b[1mPrice on good 1 (P1)\n"
     ]
    },
    {
     "data": {
      "application/vnd.jupyter.widget-view+json": {
       "model_id": "dd5da20007094b2ca9ddff0fb2cdc443",
       "version_major": 2,
       "version_minor": 0
      },
      "text/plain": [
       "FloatText(value=5.0)"
      ]
     },
     "metadata": {},
     "output_type": "display_data"
    },
    {
     "data": {
      "application/vnd.jupyter.widget-view+json": {
       "model_id": "046f29c729934c229029b36ec2fd5bff",
       "version_major": 2,
       "version_minor": 0
      },
      "text/plain": [
       "FloatSlider(value=5.0, step=1.0)"
      ]
     },
     "metadata": {},
     "output_type": "display_data"
    },
    {
     "name": "stdout",
     "output_type": "stream",
     "text": [
      "\u001b[1mPrice on good 2 (P2)\n"
     ]
    },
    {
     "data": {
      "application/vnd.jupyter.widget-view+json": {
       "model_id": "33dee84196d44f938a0d9413831be367",
       "version_major": 2,
       "version_minor": 0
      },
      "text/plain": [
       "FloatText(value=15.0)"
      ]
     },
     "metadata": {},
     "output_type": "display_data"
    },
    {
     "data": {
      "application/vnd.jupyter.widget-view+json": {
       "model_id": "2717389e44fe4de7ace4020070dc7b65",
       "version_major": 2,
       "version_minor": 0
      },
      "text/plain": [
       "FloatSlider(value=5.0, step=1.0)"
      ]
     },
     "metadata": {},
     "output_type": "display_data"
    }
   ],
   "source": [
    "# Price on good 1\n",
    "\n",
    "# We only describe the code for the prices, as it is repeated for all variables.\n",
    "# First we print a headline \"Price on good 1\", where the first part is used to make the text bold. We also write P1 in a parenthesis,\n",
    "# as this is the variable name which we are going to use.\n",
    "print('\\033[1m' + 'Price on good 1 (P1)')\n",
    "# Now we create the text-widget, where we set the starting value to 5.\n",
    "P1 = widgets.FloatText(\n",
    "value=5)\n",
    "# Next we create a slide-widget (using floats, such that decimals can be used). Here we set the same starting value, \n",
    "# we set the steps to 1 and we define the minimum value to 0 and the maximum value to 100.\n",
    "# This can off course be adjusted for the problem settings.\n",
    "P1b = widgets.FloatSlider(\n",
    "value=5,\n",
    "step=1,\n",
    "min=0,\n",
    "max=100.0,)\n",
    "# Next we print both widgets\n",
    "display(P1,P1b)\n",
    "# And lastly we link the 2 widgets together, so you can change either widget.\n",
    "linkp1 = widgets.jslink((P1, 'value'), (P1b, 'value'))\n",
    "\n",
    "# Price on good 2\n",
    "print('\\033[1m' + 'Price on good 2 (P2)')\n",
    "P2 = widgets.FloatText(\n",
    "value=15)\n",
    "P2b = widgets.FloatSlider(\n",
    "value=5,\n",
    "step=1,\n",
    "min=0,\n",
    "max=100.0,)\n",
    "display(P2,P2b)\n",
    "\n",
    "linkp2 = widgets.jslink((P2, 'value'), (P2b, 'value'))"
   ]
  },
  {
   "cell_type": "markdown",
   "metadata": {},
   "source": [
    "### **Setting the income level**"
   ]
  },
  {
   "cell_type": "code",
   "execution_count": 4,
   "metadata": {},
   "outputs": [
    {
     "name": "stdout",
     "output_type": "stream",
     "text": [
      "\u001b[1mIncome for consumer 1 (I1)\n"
     ]
    },
    {
     "data": {
      "application/vnd.jupyter.widget-view+json": {
       "model_id": "f74740eacafe471eb73b6646b8740485",
       "version_major": 2,
       "version_minor": 0
      },
      "text/plain": [
       "FloatText(value=100.0)"
      ]
     },
     "metadata": {},
     "output_type": "display_data"
    },
    {
     "data": {
      "application/vnd.jupyter.widget-view+json": {
       "model_id": "8cbfa49314b344e6bb6f7984102b0a15",
       "version_major": 2,
       "version_minor": 0
      },
      "text/plain": [
       "FloatSlider(value=100.0, max=1000.0, step=1.0)"
      ]
     },
     "metadata": {},
     "output_type": "display_data"
    },
    {
     "name": "stdout",
     "output_type": "stream",
     "text": [
      "\u001b[1mIncome for consumer 2 (I2)\n"
     ]
    },
    {
     "data": {
      "application/vnd.jupyter.widget-view+json": {
       "model_id": "1a3e0796e95f43409997912eefe9cd6d",
       "version_major": 2,
       "version_minor": 0
      },
      "text/plain": [
       "FloatText(value=100.0)"
      ]
     },
     "metadata": {},
     "output_type": "display_data"
    },
    {
     "data": {
      "application/vnd.jupyter.widget-view+json": {
       "model_id": "1ab188fee7c643128eb3260d455f74f2",
       "version_major": 2,
       "version_minor": 0
      },
      "text/plain": [
       "FloatSlider(value=100.0, max=1000.0, step=1.0)"
      ]
     },
     "metadata": {},
     "output_type": "display_data"
    }
   ],
   "source": [
    "# Income consumer 1\n",
    "print('\\033[1m' + 'Income for consumer 1 (I1)')\n",
    "I1 = widgets.FloatText(\n",
    "value=100)\n",
    "I1b = widgets.FloatSlider(\n",
    "value=100,\n",
    "step=1,\n",
    "min=0,\n",
    "max=1000,)\n",
    "display(I1,I1b),\n",
    "\n",
    "linkI1 = widgets.jslink((I1, 'value'), (I1b, 'value'))\n",
    "             \n",
    "# Income consumer 2\n",
    "print('\\033[1m' + 'Income for consumer 2 (I2)')\n",
    "I2 = widgets.FloatText(\n",
    "value=100)\n",
    "I2b = widgets.FloatSlider(\n",
    "value=100,\n",
    "step=1,\n",
    "min=0,\n",
    "max=1000,)\n",
    "display(I2,I2b)\n",
    "\n",
    "linkI2 = widgets.jslink((I2, 'value'), (I2b, 'value'))\n"
   ]
  },
  {
   "cell_type": "markdown",
   "metadata": {},
   "source": [
    "Next we plot the budget constraint, this way we are able to show, what the consumer is able to afford. To do this we first need to define the budget constraint function, whicch is\n",
    "\\\\[\n",
    "\\begin{eqnarray*}\n",
    "I(p_{1},p_{2}) & = & x_{1}*p_{1}+x_{2}*p_{2}\n",
    "\\end{eqnarray*}\n",
    "\\\\]\n",
    "And then isolate for \\begin{eqnarray*} x_{2} \\end{eqnarray*}"
   ]
  },
  {
   "cell_type": "code",
   "execution_count": 5,
   "metadata": {},
   "outputs": [
    {
     "data": {
      "image/png": "[encoded data removed]",
      "text/plain": [
       "<Figure size 1080x360 with 2 Axes>"
      ]
     },
     "metadata": {
      "needs_background": "light"
     },
     "output_type": "display_data"
    }
   ],
   "source": [
    "def x2_func(x1,I,P1,P2): # We define x2 as a function of x1\n",
    "    return (I-x1*P1)/P2 # The function is derived by isolating x2 in the budgetconstraint\n",
    "       \n",
    "N=500\n",
    "shape_tuple = (N,N)\n",
    "x1_values = np.empty(shape_tuple)\n",
    "if I1.value>I2.value:\n",
    "    x_max1=I1.value/P1.value  \n",
    "else:\n",
    "    x_max1=I2.value/P1.value \n",
    "for i in range(N): # 0,1,...,N-1\n",
    "    for j in range(N): # 0,1,...,N-1\n",
    "        x1_values[i,j] = (i/(N-1))*x_max1 # in [0,x_max1]\n",
    "def Figure_1():\n",
    "    fig = plt.figure(figsize=(15,5)) # create the figure \n",
    "    ax = fig.add_subplot(1,2,1) # We add a subplot and place it in the top left corner\n",
    "    ax.plot(x1_values,x2_func(x1_values,I1.value,P1.value,P2.value),'b'); # creates surface plot in the axis\n",
    "    ax.set_xlabel('$x_1$') # add labels\n",
    "    ax.set_ylabel('$x_2$') # add labels\n",
    "    ax.set_title(\"Budget constraint for Consumer 1\") # add title\n",
    "    ay = fig.add_subplot(1,2,2) # We add a second plot and place it in the top right corner\n",
    "    ay.plot(x1_values,x2_func(x1_values,I2.value,P1.value,P2.value),'b'); # creates surface plot in the axis\n",
    "    ay.set_xlabel('$x_1$') # add labels\n",
    "    ay.set_ylabel('$x_2$') # add labels\n",
    "    ay.set_title(\"Budget constraint for Consumer 2\") # add title\n",
    "Figure_1()"
   ]
  },
  {
   "cell_type": "markdown",
   "metadata": {},
   "source": [
    "### **Utility function**"
   ]
  },
  {
   "cell_type": "markdown",
   "metadata": {},
   "source": [
    "After setting the price levels and income levels, we define the utilityfunctions. \n",
    "\\\\[\n",
    "u_{Consumer_1}(x_1,x_2) = x_1^{\\alpha}x_2^{1-\\alpha}\n",
    "\\\\]\n",
    "\\\\[\n",
    "u_{Consumer_2}(x_1,x_2) = \\beta*log(x_1)+(1-\\beta)*log(x_2)\n",
    "\\\\]\n",
    "These functions can easily be altered to fit your own problem using the widgets, which allows you to change the values of \\\\(\\alpha\\\\) and \\\\(\\beta\\\\) "
   ]
  },
  {
   "cell_type": "code",
   "execution_count": 6,
   "metadata": {},
   "outputs": [
    {
     "name": "stdout",
     "output_type": "stream",
     "text": [
      "\u001b[1mConsumer 1:\n",
      "\u001b[1mAlpha (α)\n"
     ]
    },
    {
     "data": {
      "application/vnd.jupyter.widget-view+json": {
       "model_id": "4cb6d344aee441ac967546cc7027c045",
       "version_major": 2,
       "version_minor": 0
      },
      "text/plain": [
       "FloatText(value=0.5)"
      ]
     },
     "metadata": {},
     "output_type": "display_data"
    },
    {
     "data": {
      "application/vnd.jupyter.widget-view+json": {
       "model_id": "4a277e30e9c2444fb3e6317eee5c1e27",
       "version_major": 2,
       "version_minor": 0
      },
      "text/plain": [
       "FloatSlider(value=0.5, max=1.0)"
      ]
     },
     "metadata": {},
     "output_type": "display_data"
    },
    {
     "name": "stdout",
     "output_type": "stream",
     "text": [
      "\u001b[1mConsumer 2:\n",
      "\u001b[1mBeta (β)\n"
     ]
    },
    {
     "data": {
      "application/vnd.jupyter.widget-view+json": {
       "model_id": "f7559e1306ef42528653a9005834ce8f",
       "version_major": 2,
       "version_minor": 0
      },
      "text/plain": [
       "FloatText(value=0.5)"
      ]
     },
     "metadata": {},
     "output_type": "display_data"
    },
    {
     "data": {
      "application/vnd.jupyter.widget-view+json": {
       "model_id": "215a488a82d94234a126f5e31e87f692",
       "version_major": 2,
       "version_minor": 0
      },
      "text/plain": [
       "FloatSlider(value=0.5, max=1.0)"
      ]
     },
     "metadata": {},
     "output_type": "display_data"
    }
   ],
   "source": [
    "# Consumer 1\n",
    "def c1_u_func(x1,x2,alpha): # We define a utility function\n",
    "    return (x1**alpha)*(x2**(1-alpha))\n",
    "\n",
    "print('\\033[1m' + 'Consumer 1:')\n",
    "print('\\033[1m' + 'Alpha (\\u03B1)') # We use this code \\u03B1 and similar ones to print greek letters. This particular one is for alpha\n",
    "alpha = widgets.FloatText(\n",
    "value=0.5)\n",
    "alphab = widgets.FloatSlider(\n",
    "value=0.5,\n",
    "step=0.1,\n",
    "min=0,\n",
    "max=1,)\n",
    "display(alpha,alphab)\n",
    "\n",
    "mylink = widgets.jslink((alpha, 'value'), (alphab, 'value'))\n",
    "\n",
    "# Consumer 2\n",
    "\n",
    "def c2_u_func(x1,x2,beta): # We define a utility function\n",
    "    return beta*np.log(x1)+(1-beta)*np.log(x2)\n",
    "\n",
    "print('\\033[1m' + 'Consumer 2:')\n",
    "print('\\033[1m' + 'Beta (\\u03B2)')\n",
    "beta = widgets.FloatText(\n",
    "value=0.5)\n",
    "betab = widgets.FloatSlider(\n",
    "value=0.5,\n",
    "step=0.1,\n",
    "min=0,\n",
    "max=1,)\n",
    "display(beta,betab)\n",
    "\n",
    "mylink = widgets.jslink((beta, 'value'), (betab, 'value'))"
   ]
  },
  {
   "cell_type": "markdown",
   "metadata": {},
   "source": [
    "We set the utlity values so we can plot the indifference curves."
   ]
  },
  {
   "cell_type": "code",
   "execution_count": 8,
   "metadata": {},
   "outputs": [
    {
     "name": "stdout",
     "output_type": "stream",
     "text": [
      "\u001b[1mUtility for consumer 1 (u1)\n"
     ]
    },
    {
     "data": {
      "application/vnd.jupyter.widget-view+json": {
       "model_id": "d562753dab9f44ca9d12e8caa8489acc",
       "version_major": 2,
       "version_minor": 0
      },
      "text/plain": [
       "FloatText(value=10.0)"
      ]
     },
     "metadata": {},
     "output_type": "display_data"
    },
    {
     "data": {
      "application/vnd.jupyter.widget-view+json": {
       "model_id": "3c0e271dadd04e88b7b4ea870e0ff839",
       "version_major": 2,
       "version_minor": 0
      },
      "text/plain": [
       "FloatSlider(value=10.0, max=50.0)"
      ]
     },
     "metadata": {},
     "output_type": "display_data"
    },
    {
     "name": "stdout",
     "output_type": "stream",
     "text": [
      "\u001b[1mUtility for consumer 2 (u2)\n"
     ]
    },
    {
     "data": {
      "application/vnd.jupyter.widget-view+json": {
       "model_id": "ed65ea6f324d45489de1defb7a04febc",
       "version_major": 2,
       "version_minor": 0
      },
      "text/plain": [
       "FloatText(value=1.0)"
      ]
     },
     "metadata": {},
     "output_type": "display_data"
    },
    {
     "data": {
      "application/vnd.jupyter.widget-view+json": {
       "model_id": "5893c2572e5c462cbd0feb7aa89a2d71",
       "version_major": 2,
       "version_minor": 0
      },
      "text/plain": [
       "FloatSlider(value=1.0, max=3.0)"
      ]
     },
     "metadata": {},
     "output_type": "display_data"
    }
   ],
   "source": [
    "print('\\033[1m' + 'Utility for consumer 1 (u1)')\n",
    "u1 = widgets.FloatText(\n",
    "value=10)\n",
    "u1b = widgets.FloatSlider(\n",
    "value=10,\n",
    "step=0.1,\n",
    "min=0,\n",
    "max=50,)\n",
    "display(u1,u1b)\n",
    "mylink = widgets.jslink((u1, 'value'), (u1b, 'value'))\n",
    "\n",
    "print('\\033[1m' + 'Utility for consumer 2 (u2)')\n",
    "u2 = widgets.FloatText(\n",
    "value=1)\n",
    "u2b = widgets.FloatSlider(\n",
    "value=1,\n",
    "step=0.1,\n",
    "min=0,\n",
    "max=3,)\n",
    "display(u2,u2b)\n",
    "mylink = widgets.jslink((u2, 'value'), (u2b, 'value'))"
   ]
  },
  {
   "cell_type": "markdown",
   "metadata": {},
   "source": [
    "Next we plot the utilityfunctions using the values choosen above."
   ]
  },
  {
   "cell_type": "code",
   "execution_count": 9,
   "metadata": {},
   "outputs": [
    {
     "data": {
      "image/png": "[encoded data removed]",
      "text/plain": [
       "<Figure size 1080x360 with 2 Axes>"
      ]
     },
     "metadata": {
      "needs_background": "light"
     },
     "output_type": "display_data"
    }
   ],
   "source": [
    "def c1_x2_func2(x1,u,alpha):\n",
    "    return u**(1/(1-alpha))*(x1**(-alpha/(1-alpha)))\n",
    "def c2_x2_func2(x1,u,beta):\n",
    "    return np.exp((u-beta*np.log(x1))/(1-beta))\n",
    "\n",
    "def Figure_2():\n",
    "    fig = plt.figure(figsize=(15,5)) # creates the figure\n",
    "    ax = fig.add_subplot(1,2,1) # creates subplot \n",
    "    ax.plot(x1_values,c1_x2_func2(x1_values,u1.value,alpha.value),'b'); # creates surface plot in the axis\n",
    "    ax.set_xlabel('$x_1$') # add labels\n",
    "    ax.set_ylabel('$x_2$') # add labels\n",
    "    ax.set_title(\"Utility for Consumer 1\") # add title\n",
    "    ax.set_ylim([0, 20]) # here we limit the y axis, which is needed due to the values going towards negative infinity, when x1 goes towards 0.\n",
    "    ay = fig.add_subplot(1,2,2) # creates subplot \n",
    "    ay.plot(x1_values,c2_x2_func2(x1_values,u2.value,beta.value),'b'); # creates surface plot in the axis, but this time we use a different method due to the fact that we are using numpy functions (exp and log).\n",
    "    ay.set(xlabel='$x_1$', ylabel='$x_2$',\n",
    "       title=\"Utility for Consumer 2\", xlim=[0,I2.value/P1.value], ylim=[0,I2.value/P2.value]) # We also need to set our labels and title in a different way.\n",
    "Figure_2()"
   ]
  },
  {
   "cell_type": "markdown",
   "metadata": {},
   "source": [
    "### **Solution**"
   ]
  },
  {
   "cell_type": "markdown",
   "metadata": {},
   "source": [
    "Now we solve the consumer's problem for both types. This is done by maximizing the utility with regards to the budget constraint.\n",
    "\\\\[\n",
    "\\begin{eqnarray*}\n",
    "\\max_{x_{1},x_{2}}u(x_{1},x_{2})\\\\\n",
    "\\text{s.t.}\\\\\n",
    "p_{1}x_{1}+p_{2}x_{2} & \\leq & I,\\,\\,\\,p_{1},p_{2},I>0\\\\\n",
    "x_{1},x_{2} & \\geq & 0\n",
    "\\end{eqnarray*}\n",
    "\\\\]"
   ]
  },
  {
   "cell_type": "code",
   "execution_count": 10,
   "metadata": {},
   "outputs": [],
   "source": [
    "def c1(x1,I,P1,P2,alpha): # First we define a function, which we will use to find the optimal value of x1. *****************************************************************\n",
    "    x2 = (I-P1*x1)/P2\n",
    "# We return the negative function of our utility and then minimizes this, which is the same as maximizing the utility\n",
    "    return -c1_u_func(x1,x2,alpha) \n",
    "\n",
    "def c2(x1,I,P1,P2,beta):\n",
    "    x2 = (I-P1*x1)/P2\n",
    "    return -c2_u_func(x1,x2,beta)\n",
    "\n",
    "# Next we use our optimizing function to maximize the utility. \n",
    "# Here we define x1 to be between 0 and the maximum number of good 1 you can buy for your income\n",
    "solver_c1 = optimize.minimize_scalar(c1, method='bounded', bounds=(0,I1.value/P1.value), args=(I1.value,P1.value,P2.value,alpha.value))  \n",
    "solver_c2 = optimize.minimize_scalar(c2, method='bounded', bounds=(0,I2.value/P1.value), args=(I2.value,P1.value,P2.value,beta.value)) \n",
    "# We then define our answers for both consumers\n",
    "c1_x1 = solver_c1.x\n",
    "c1_x2 = (I1.value-P1.value*c1_x1)/P2.value\n",
    "c1_u = c1_u_func(c1_x1,c1_x2,alpha.value)\n",
    "\n",
    "c2_x1 = solver_c2.x\n",
    "c2_x2 = (I2.value-P1.value*c2_x1)/P2.value\n",
    "c2_u = c2_u_func(c2_x1,c2_x2,beta.value)"
   ]
  },
  {
   "cell_type": "markdown",
   "metadata": {},
   "source": [
    "This provides the following results:"
   ]
  },
  {
   "cell_type": "code",
   "execution_count": 11,
   "metadata": {},
   "outputs": [
    {
     "name": "stdout",
     "output_type": "stream",
     "text": [
      "\u001b[1mConsumer 1:\n",
      "\u001b[0mx1 = 10.0\n",
      "x2 = 3.3\n",
      "u  = 5.77\n",
      "I-p1*x1-p2*x2 = 0.00\n",
      "\n",
      "\u001b[1mConsumer 2:\n",
      "\u001b[0mx1 = 10.0\n",
      "x2 = 3.3\n",
      "u  = 1.75\n",
      "I-p1*x1-p2*x2 = 0.00\n"
     ]
    }
   ],
   "source": [
    "print('\\033[1m' + 'Consumer 1:')\n",
    "print('\\033[0m' + f'x1 = {c1_x1:.1f}') # Prints the x1 value\n",
    "print(f'x2 = {c1_x2:.1f}') # Prints the x2 value\n",
    "print(f'u  = {c1_u:.2f}') # Prints the utility\n",
    "print(f'I-p1*x1-p2*x2 = {I1.value-P1.value*c1_x1-P2.value*c1_x2:.2f}') # Prints a calculation to see whether the whole income has been used, such that income - consumption = 0 \n",
    "print ('')\n",
    "print('\\033[1m' + 'Consumer 2:')\n",
    "print('\\033[0m' + f'x1 = {c2_x1:.1f}') \n",
    "print(f'x2 = {c2_x2:.1f}') \n",
    "print(f'u  = {c2_u:.2f}') \n",
    "print(f'I-p1*x1-p2*x2 = {I2.value-P1.value*c2_x1-P2.value*c2_x2:.2f}') "
   ]
  },
  {
   "cell_type": "markdown",
   "metadata": {},
   "source": [
    "We can compare this answer to the one, we get from solving the problem manually.\n",
    "\n",
    "**Consumer 1:**\n",
    "\\\\[\n",
    "\\begin{eqnarray*}\n",
    "x_1^{\\ast} &=& \\alpha \\frac{I}{p_1} \\\\\n",
    "x_2^{\\ast} &=& (1-\\alpha) \\frac{I}{p_2}\\\\\n",
    "u^{\\ast} &=& u_{Consumer_1}(x_1^{\\ast},x_2^{\\ast})\n",
    "\\end{eqnarray*}\n",
    "\\\\]\n",
    "\n",
    "**Consumer 2:**\n",
    "\\\\[\n",
    "\\begin{eqnarray*}\n",
    "x_1^{\\ast} &=& \\beta \\frac{I}{p_1} \\\\\n",
    "x_2^{\\ast} &=& (1-\\beta) \\frac{I}{p_2}\\\\\n",
    "u^{\\ast} &=& u_{Consumer_2}(x_1^{\\ast},x_2^{\\ast})\n",
    "\\end{eqnarray*}\n",
    "\\\\]"
   ]
  },
  {
   "cell_type": "code",
   "execution_count": 12,
   "metadata": {},
   "outputs": [
    {
     "name": "stdout",
     "output_type": "stream",
     "text": [
      "\u001b[1mConsumer 1:\n",
      "\u001b[0mx1 = 10.0\n",
      "x2 = 3.3\n",
      "u  = 5.77\n",
      "\n",
      "\u001b[1mConsumer 2:\n",
      "\u001b[0mx1 = 10.0\n",
      "x2 = 3.3\n",
      "u  = 1.75\n"
     ]
    }
   ],
   "source": [
    "print('\\033[1m' + 'Consumer 1:')\n",
    "print('\\033[0m' + f'x1 = {alpha.value*I1.value/P1.value:.1f}') # Prints the x1 value\n",
    "print(f'x2 = {(1-alpha.value)*I1.value/P2.value:.1f}') # Prints the x2 value\n",
    "print(f'u  = {c1_u_func(alpha.value*I1.value/P1.value,(1-alpha.value)*I1.value/P2.value,alpha.value):.2f}') # Prints the utility\n",
    "print ('')\n",
    "print('\\033[1m' + 'Consumer 2:')\n",
    "print('\\033[0m' + f'x1 = {beta.value*I2.value/P1.value:.1f}') \n",
    "print(f'x2 = {(1-beta.value)*I2.value/P2.value:.1f}') \n",
    "print(f'u  = {c2_u_func(beta.value*I2.value/P1.value,(1-beta.value)*I2.value/P2.value,beta.value):.2f}') "
   ]
  },
  {
   "cell_type": "markdown",
   "metadata": {},
   "source": [
    "We can also visualize this by plotting our budget constraint against the utility function, where we use the results from above."
   ]
  },
  {
   "cell_type": "code",
   "execution_count": 13,
   "metadata": {},
   "outputs": [
    {
     "data": {
      "image/png": "[encoded data removed]",
      "text/plain": [
       "<Figure size 1080x360 with 2 Axes>"
      ]
     },
     "metadata": {
      "needs_background": "light"
     },
     "output_type": "display_data"
    }
   ],
   "source": [
    "def Figure_3():\n",
    "    fig = plt.figure(figsize=(15,5))  \n",
    "    ax = fig.add_subplot(1,2,1)\n",
    "    ax.plot(x1_values,c1_x2_func2(x1_values,c1_u,alpha.value),'b');\n",
    "    ax.plot(x1_values,x2_func(x1_values,I1.value,P1.value,P2.value),'b');\n",
    "    ax.set_xlabel('$x_1$') \n",
    "    ax.set_ylabel('$x_2$') \n",
    "    ax.set_title(\"Solution for Consumer 1\") \n",
    "    ax.set_ylim([0, I1.value/P2.value])\n",
    "    ax.set_xlim([0,I1.value/P1.value])\n",
    "    ax.plot(c1_x1,c1_x2, color='red', marker='o', linestyle='dashed', linewidth=5, markersize=10, fillstyle='none') \n",
    "    ay = fig.add_subplot(1,2,2)\n",
    "    ay.plot(x1_values,c2_x2_func2(x1_values,c2_u,beta.value),'b'); \n",
    "    ay.plot(x1_values,x2_func(x1_values,I2.value,P1.value,P2.value),'b')\n",
    "    ay.set(xlabel='$x_1$', ylabel='$x_2$',\n",
    "       title=\"Solution for Consumer 2\", xlim=[0,I2.value/P1.value], ylim=[0,20]) \n",
    "    ay.plot(c1_x1, c1_x2, color='red', marker='o', linestyle='dashed', linewidth=5, markersize=10, fillstyle='none')\n",
    "Figure_3()"
   ]
  },
  {
   "cell_type": "markdown",
   "metadata": {},
   "source": [
    "We see that the utility function touches the budget constraint (shown by the red circle) at the result we found above."
   ]
  },
  {
   "cell_type": "markdown",
   "metadata": {},
   "source": [
    "## **Social optimum**"
   ]
  },
  {
   "cell_type": "markdown",
   "metadata": {},
   "source": [
    "First we define the necessary aggregated variables"
   ]
  },
  {
   "cell_type": "code",
   "execution_count": 15,
   "metadata": {},
   "outputs": [],
   "source": [
    "soc_I=I1.value+I2.value\n",
    "def u_func(x1,x2,alpha,beta):\n",
    "    return c1_u_func(x1,x2,alpha)+c2_u_func(x1,x2,beta)"
   ]
  },
  {
   "cell_type": "markdown",
   "metadata": {},
   "source": [
    "And then we solve for the social optimum: \n",
    "\n",
    "\\\\[\n",
    "\\begin{eqnarray*}\n",
    "\\max_{x_{1},x_{2}}u_{Consumer_1}(x_{1},x_{2})+u_{Consumer_2}(x_{1},x_{2})\\\\\n",
    "\\text{s.t.}\\\\\n",
    "p_{1}x_{1}+p_{2}x_{2} & \\leq & I_{Consumer_1}+I_{Consumer_2},\\,\\,\\,p_{1},p_{2},I_{Consumer_1},I_{Consumer_2}>0\\\\\n",
    "x_{1},x_{2} & \\geq & 0\n",
    "\\end{eqnarray*}\n",
    "\\\\]\n",
    "\n",
    "**Notice:** We dont plot the graphs since isolateing \\\\(x_2\\\\) isn't possible for costumer 2."
   ]
  },
  {
   "cell_type": "code",
   "execution_count": 16,
   "metadata": {},
   "outputs": [
    {
     "name": "stdout",
     "output_type": "stream",
     "text": [
      "\u001b[1mSocial optimum:\n",
      "\u001b[0mx1 = 20.0\n",
      "x2 = 6.7\n",
      "u  = 13.99\n",
      "I-p1*x1-p2*x2 = 0.00\n"
     ]
    }
   ],
   "source": [
    "def c1_and_c2(x1,I,P1,P2,alpha,beta): \n",
    "    x2 = (I-P1*x1)/P2\n",
    "    return -u_func(x1,x2,alpha,beta)\n",
    "\n",
    "solver = optimize.minimize_scalar(c1_and_c2, method='bounded', bounds=(0,soc_I/P1.value), args=(soc_I,P1.value,P2.value,alpha.value,beta.value)) \n",
    "soc_x1 = solver.x\n",
    "soc_x2 = (soc_I-P1.value*soc_x1)/P2.value\n",
    "soc_u = u_func(soc_x1,soc_x2,alpha.value,beta.value)\n",
    "\n",
    "print('\\033[1m' + 'Social optimum:')\n",
    "print('\\033[0m' + f'x1 = {soc_x1:.1f}')\n",
    "print(f'x2 = {soc_x2:.1f}') \n",
    "print(f'u  = {soc_u:.2f}') \n",
    "print(f'I-p1*x1-p2*x2 = {soc_I-P1.value*soc_x1-P2.value*soc_x2:.2f}') "
   ]
  },
  {
   "cell_type": "markdown",
   "metadata": {},
   "source": [
    "We can then compare this result to our earlier results from solving the consumer problems individually. We see that the changes is given by:"
   ]
  },
  {
   "cell_type": "code",
   "execution_count": 18,
   "metadata": {},
   "outputs": [
    {
     "name": "stdout",
     "output_type": "stream",
     "text": [
      "\u001b[1mChanges:\n",
      "\u001b[0mΔx1 = 0.0\n",
      "Δx2 = 0.0\n",
      "Δu = 6.47\n"
     ]
    }
   ],
   "source": [
    "print('\\033[1m' + 'Changes:')\n",
    "print('\\033[0m' + f'\\u0394x1 = {soc_x1-c1_x1-c2_x1:.1f}') \n",
    "print(f'\\u0394x2 = {soc_x2-c1_x2-c2_x2:.1f}') \n",
    "print(f'\\u0394u = {soc_u-c1_u-c2_u:.2f}')"
   ]
  },
  {
   "cell_type": "markdown",
   "metadata": {},
   "source": [
    "## **Firms maximization problem**"
   ]
  },
  {
   "cell_type": "markdown",
   "metadata": {},
   "source": [
    " ### **Determine the competitive situation**"
   ]
  },
  {
   "cell_type": "markdown",
   "metadata": {},
   "source": [
    "First we need to select the competitive situation of the problem."
   ]
  },
  {
   "cell_type": "code",
   "execution_count": 20,
   "metadata": {},
   "outputs": [
    {
     "data": {
      "application/vnd.jupyter.widget-view+json": {
       "model_id": "3fe9164f612a46caa732fed12952b678",
       "version_major": 2,
       "version_minor": 0
      },
      "text/plain": [
       "RadioButtons(description='Competition:', options=('Competitive', 'Monopolistic'), value='Competitive')"
      ]
     },
     "metadata": {},
     "output_type": "display_data"
    }
   ],
   "source": [
    "competition=widgets.RadioButtons(\n",
    "    options=['Competitive', 'Monopolistic'],\n",
    "    value='Competitive',\n",
    "    description='Competition:',\n",
    "    disabled=False\n",
    ")\n",
    "competition"
   ]
  },
  {
   "cell_type": "markdown",
   "metadata": {},
   "source": [
    "### **Set demand according to the competition**"
   ]
  },
  {
   "cell_type": "code",
   "execution_count": 22,
   "metadata": {},
   "outputs": [
    {
     "name": "stdout",
     "output_type": "stream",
     "text": [
      "Since you have picked the competitive market, you need to choose the price, p, at which the other firms sell their goods\n",
      "\n",
      "\u001b[1mPrice on goods (P)\n"
     ]
    },
    {
     "data": {
      "application/vnd.jupyter.widget-view+json": {
       "model_id": "7104e0f76e284cac92cc232a02993ccb",
       "version_major": 2,
       "version_minor": 0
      },
      "text/plain": [
       "FloatText(value=15.0)"
      ]
     },
     "metadata": {},
     "output_type": "display_data"
    },
    {
     "data": {
      "application/vnd.jupyter.widget-view+json": {
       "model_id": "4990240766e64a798eaa4636069797d2",
       "version_major": 2,
       "version_minor": 0
      },
      "text/plain": [
       "FloatSlider(value=5.0, step=1.0)"
      ]
     },
     "metadata": {},
     "output_type": "display_data"
    }
   ],
   "source": [
    "if ('Competitive'==competition.value): # This is the start of an if statement, which checks which form of competition was choosen.\n",
    "    print('Since you have picked the competitive market, you need to choose the price, p, at which the other firms sell their goods')\n",
    "    print('')\n",
    "    print('\\033[1m' + 'Price on goods (P)')\n",
    "    P = widgets.FloatText(\n",
    "    value=15)\n",
    "    Pb = widgets.FloatSlider(\n",
    "    value=5,\n",
    "    step=1,\n",
    "    min=0,\n",
    "    max=100.0,)\n",
    "    display(P,Pb)\n",
    "    linkP = widgets.jslink((P, 'value'), (Pb, 'value'))\n",
    "\n",
    "else:\n",
    "    print('Since you have picked monopolistic competition, we need to define the demand function of the consumer. Here we use a linear function (D(x)=b-a*x), where the slope, a, and the constant term, b, are determined by the widgets below.')\n",
    "    print('')\n",
    "    # Determine a\n",
    "    print('\\033[1m' + 'Slope of demand function (a)')\n",
    "    a = widgets.FloatText(\n",
    "    value=5)\n",
    "    aa = widgets.FloatSlider(\n",
    "    value=5,\n",
    "    step=0.5,\n",
    "    min=0,\n",
    "    max=10.0,)\n",
    "    display(a,aa)\n",
    "    linka = widgets.jslink((a, 'value'), (aa, 'value'))\n",
    "\n",
    "    # Determine b\n",
    "    print('\\033[1m' + 'Constant term (b)')\n",
    "    b = widgets.FloatText(    \n",
    "    value=200)\n",
    "    bb = widgets.FloatSlider(\n",
    "    value=200,\n",
    "    step=1,\n",
    "    min=0,\n",
    "    max=500.0,)\n",
    "    display(b,bb)\n",
    "    linkb = widgets.jslink((b, 'value'), (bb, 'value'))\n",
    "    # Note that we don't define the demand function yet since the user need to be able to change the variables first. Therefore, we define the demand function, when solving the problem"
   ]
  },
  {
   "cell_type": "markdown",
   "metadata": {},
   "source": [
    "### **Define the Total Cost function**"
   ]
  },
  {
   "cell_type": "markdown",
   "metadata": {},
   "source": [
    "Next we define our total cost function, which is defined in a quadratic form. (We have included total cost, as it is needed to determine whether the firm wants to enter the market or not)\n",
    "\n",
    "\\\\[\n",
    "TC(x) = c*x^2+FC\n",
    "\\\\]"
   ]
  },
  {
   "cell_type": "code",
   "execution_count": 23,
   "metadata": {},
   "outputs": [
    {
     "name": "stdout",
     "output_type": "stream",
     "text": [
      "\u001b[1mSlope, c\n"
     ]
    },
    {
     "data": {
      "application/vnd.jupyter.widget-view+json": {
       "model_id": "83fed593f8d04cc5aff698b4dcb72f0f",
       "version_major": 2,
       "version_minor": 0
      },
      "text/plain": [
       "FloatText(value=0.5)"
      ]
     },
     "metadata": {},
     "output_type": "display_data"
    },
    {
     "data": {
      "application/vnd.jupyter.widget-view+json": {
       "model_id": "a59ad98f47ee4ea393e0653c4ad1d300",
       "version_major": 2,
       "version_minor": 0
      },
      "text/plain": [
       "FloatSlider(value=0.5, max=10.0)"
      ]
     },
     "metadata": {},
     "output_type": "display_data"
    },
    {
     "name": "stdout",
     "output_type": "stream",
     "text": [
      "\u001b[1mFixed costs (FC)\n"
     ]
    },
    {
     "data": {
      "application/vnd.jupyter.widget-view+json": {
       "model_id": "1255c259963c474680dd753f2256948d",
       "version_major": 2,
       "version_minor": 0
      },
      "text/plain": [
       "FloatText(value=10.0)"
      ]
     },
     "metadata": {},
     "output_type": "display_data"
    },
    {
     "data": {
      "application/vnd.jupyter.widget-view+json": {
       "model_id": "bae2ed5f1d194f67a70f683fc055e78b",
       "version_major": 2,
       "version_minor": 0
      },
      "text/plain": [
       "FloatSlider(value=10.0, step=1.0)"
      ]
     },
     "metadata": {},
     "output_type": "display_data"
    }
   ],
   "source": [
    "# Determine variable costs\n",
    "print('\\033[1m' + 'Slope, c')\n",
    "c = widgets.FloatText(\n",
    "value=0.5)\n",
    "cb = widgets.FloatSlider(\n",
    "value=0.5,\n",
    "step=0.1,\n",
    "min=0,\n",
    "max=10.0,)\n",
    "display(c,cb)\n",
    "linkb = widgets.jslink((c, 'value'), (cb, 'value'))\n",
    "    \n",
    "# Determine fixed costs\n",
    "print('\\033[1m' + 'Fixed costs (FC)')\n",
    "FC = widgets.FloatText(\n",
    "value=10)\n",
    "FCb = widgets.FloatSlider(\n",
    "value=10,\n",
    "step=1,\n",
    "min=0,\n",
    "max=100.0,)\n",
    "display(FC,FCb)\n",
    "linkb = widgets.jslink((FC, 'value'), (FCb, 'value'))   "
   ]
  },
  {
   "cell_type": "code",
   "execution_count": 25,
   "metadata": {},
   "outputs": [
    {
     "data": {
      "image/png": "[encoded data removed]",
      "text/plain": [
       "<Figure size 576x360 with 1 Axes>"
      ]
     },
     "metadata": {
      "needs_background": "light"
     },
     "output_type": "display_data"
    }
   ],
   "source": [
    "def TC(x,c,FC):\n",
    "    return c*x**2+FC\n",
    "def MC(x,c):\n",
    "    return c*x*2\n",
    "\n",
    "p_x_max=50 # Here set the capacity limit at 50\n",
    "shape_tuple = (N,N)\n",
    "p_x_values = np.empty(shape_tuple)\n",
    "\n",
    "for i in range(N): \n",
    "    for j in range(N): \n",
    "        p_x_values[i,j] = (i/(N-1))*p_x_max \n",
    "\n",
    "def Figure_7():\n",
    "    fig = plt.figure(figsize=(8,5))  \n",
    "    ax = fig.add_subplot(1,1,1)\n",
    "    ax.plot(p_x_values,TC(p_x_values,c.value,FC.value), 'b'); \n",
    "    ax.set_xlabel('$x$') \n",
    "    ax.set_ylabel('$TC$') \n",
    "    ax.set_title('Total cost')\n",
    "Figure_7()"
   ]
  },
  {
   "cell_type": "markdown",
   "metadata": {},
   "source": [
    "### **Solution**"
   ]
  },
  {
   "cell_type": "code",
   "execution_count": 27,
   "metadata": {},
   "outputs": [
    {
     "name": "stdout",
     "output_type": "stream",
     "text": [
      "We now solve the maximization problem by maximizing the porfit of the firm.\n",
      "And since you have choosen the competitive market. The profit function of the firm is π=p*x-TC(x)\n",
      "The results are:\n",
      "x = 15.0\n",
      "Price = 15.0\n",
      "π = 102.5\n",
      "Total cost  = 122.5\n",
      "Revenue  = 225.0\n",
      "\n",
      "We can also show this result by plotting the marginal cost against the marginal revenue. The marginal costs is the first derivative\n",
      "of the total cost function. This means MC(x)=2*VC*x. The marginal revenue is equal to the price level, p. This gives us the following plot.\n",
      "It shows that for MR=MC, the firm maximizes its profit.\n"
     ]
    },
    {
     "data": {
      "image/png": "[encoded data removed]",
      "text/plain": [
       "<Figure size 1080x360 with 2 Axes>"
      ]
     },
     "metadata": {
      "needs_background": "light"
     },
     "output_type": "display_data"
    }
   ],
   "source": [
    "print('We now solve the maximization problem by maximizing the profit of the firm.')\n",
    "if ('Competitive'==competition.value):\n",
    "    print('And since you have choosen the competitive market. The profit function of the firm is \\u03C0=p*x-TC(x)')\n",
    "elif ('Monopolistic'==competition.value):\n",
    "    print('And since you have choosen the monopolistic market. The profit function of the firm is \\u03C0=D(x)*p-TC(x)')\n",
    "\n",
    "if ('Competitive'==competition.value):\n",
    "    def pi_competitive(x,P,c,FC):\n",
    "        return -(P*x-TC(x,c,FC)) # Here we define pi as the profit times -1, so that we can use scipy optimize\n",
    "    \n",
    "    solver4 = optimize.minimize_scalar(pi_competitive, method='bounded', bounds=(0,p_x_max), args=(P.value,c.value,FC.value)) \n",
    "    \n",
    "    # We define our answers as\n",
    "    x_opt1 = solver4.x\n",
    "    price1 = P.value\n",
    "    pi1=P.value*x_opt1-TC(x_opt1,c.value,FC.value)\n",
    "    TC1 = TC(x_opt1,c.value,FC.value)\n",
    "    REV1  = P.value*x_opt1\n",
    "    print('The results are:')\n",
    "    print(f'x = {x_opt1:.1f}')\n",
    "    print(f'Price = {P.value:.1f}')\n",
    "    print(f'\\u03C0 = {pi1:.1f}') \n",
    "    print(f'Total cost  = {TC1:.1f}') \n",
    "    print(f'Revenue  = {REV1:.1f}') \n",
    "    \n",
    "    if pi1>-FC.value and pi1<0: # We define an if statement to check, whether the firm wants to produce anything.\n",
    "        print('')\n",
    "        print('Although the profit is negative, the firm will still produce since they must cover some of the fixed costs')\n",
    "    elif pi1<-FC.value:\n",
    "        print('Since the profit is less than the fixed costs, the firm would not produce anything, as this will lower their profits')\n",
    "    \n",
    "    print('')\n",
    "    print('We can also show this result by plotting the marginal cost against the marginal revenue. The marginal costs is the first derivative')\n",
    "    print('of the total cost function. This means MC(x)=2*VC*x. The marginal revenue is equal to the price level, p. This gives us the following plot.') \n",
    "    print('It shows that for MR=MC, the firm maximizes its profit.')\n",
    "    def MR1(x,P):\n",
    "        return P*x/x\n",
    "    def Figure_8():\n",
    "        fig = plt.figure(figsize=(15,5)) \n",
    "        ax = fig.add_subplot(1,2,1)\n",
    "        ax.plot(p_x_values,MR1(p_x_values,P.value),'b'); \n",
    "        ax.plot(p_x_values,MC(p_x_values,c.value),'b')\n",
    "        ax.set_xlabel('$x$') \n",
    "        ax.set_ylabel('$p$') \n",
    "        ax.set_title('Marginal cost and Marginal revenue')\n",
    "        ax.plot(x_opt1, P.value, color='red', marker='o', linestyle='dashed', linewidth=5, markersize=10, fillstyle='none')\n",
    "        ay = fig.add_subplot(1,2,2)\n",
    "        ay.plot(p_x_values,TC(p_x_values,c.value,FC.value),'b');\n",
    "        ay.plot(p_x_values,P.value*p_x_values/p_x_values,'b');\n",
    "        ay.set_xlabel('$x$')\n",
    "        ay.set_ylabel('$p$')\n",
    "        ay.set_title('Total cost and Price')\n",
    "        ay.set_xlim(0,20)\n",
    "        ay.set_ylim(0,100)\n",
    "    Figure_8()    \n",
    "    \n",
    "\n",
    "    \n",
    "elif ('Monopolistic'==competition.value):\n",
    "    def pi_monopolistic(x,b,a,c,FC):\n",
    "        return -((b-a*x)*x-TC(x,c,FC)) # Here we define pi as the profit times -1, so that we can use scipy optimize\n",
    "    \n",
    "    solver5 = optimize.minimize_scalar(pi_monopolistic, method='bounded', bounds=(0,p_x_max), args=(b.value,a.value,c.value,FC.value))\n",
    "    \n",
    "    def MR2(x,b,a):\n",
    "        return b-2*a*x\n",
    "    \n",
    "    # We define our answers as\n",
    "    x_opt2 = solver5.x \n",
    "    price2 = b.value-a.value*x_opt2\n",
    "    pi2=(b.value-a.value*x_opt2)*x_opt2-TC(x_opt2,c.value,FC.value)\n",
    "    TC2 = TC(x_opt2,c.value,FC.value)\n",
    "    REV2  = (b.value-a.value*x_opt2)*x_opt2\n",
    "    print('The results are:')\n",
    "    print(f'x = {x_opt2:.1f}')\n",
    "    print(f'Price = {price2:.1f}')\n",
    "    print(f'\\u03C0 = {pi2:.1f}') \n",
    "    print(f'Total cost = {TC2:.1f}') \n",
    "    print(f'Revenue = {REV2:.1f}') \n",
    "    \n",
    "    if pi2>-FC.value and pi2<0:\n",
    "        print('')\n",
    "        print('Although the profit is negative, the firm will still produce since they must cover some of the fixed costs')\n",
    "    elif pi2<-FC.value and pi2<0:\n",
    "        print('Since the profit is less than the fixed costs, the firm would not produce anything, as this will lower their profits')\n",
    "    \n",
    "    print('')\n",
    "    print('We can also show this result by plotting the marginal cost against the marginal revenue. The marginalcosts is the first derivative')\n",
    "    print('of the total cost. This means MC(x)=2*c*x. The marginal revenue is equal to MR(x)=b-2*a*x.')\n",
    "    print('When plotting this, we notice that when MR=MC, the firm maximizes its profit.')\n",
    "    print('And as they have monopolly, they find the optimal value of x, when MR=MC, and sets the optimal price on the demand function according to this.')\n",
    "    \n",
    "    def Figure_9():\n",
    "        fig = plt.figure(figsize=(15,5)) # creates the figure \n",
    "        ax = fig.add_subplot(1,2,1)\n",
    "        ax.plot(p_x_values,b.value-a.value*p_x_values, 'b' ); \n",
    "        ax.plot(p_x_values,MC(p_x_values,c.value), 'r');\n",
    "        ax.plot(p_x_values,MR2(p_x_values,b.value,a.value), 'r');\n",
    "        ax.plot(x_opt2, MR2(x_opt2,b.value,a.value), color='blue', marker='*', linestyle='dashed', linewidth=5, markersize=10, fillstyle='full')\n",
    "        ax.plot(x_opt2, b.value-a.value*x_opt2, color='red', marker='o', linestyle='dashed', linewidth=5, markersize=10, fillstyle='full')\n",
    "        ax.vlines(x=x_opt2, ymin=0, ymax=price2) # This code plots a vertical line at the optimal value of x\n",
    "        ax.set_xlabel('$x$') \n",
    "        ax.set_ylabel('$p$') \n",
    "        ax.set_ylim(0,b.value)\n",
    "        ax.set_xlim(0,b.value/a.value)\n",
    "        ax.set_title('Marginal cost and Marginal revenue')\n",
    "        ay = fig.add_subplot(1,2,2)\n",
    "        ay.plot(p_x_values,TC(p_x_values,c.value,FC.value),'b');\n",
    "        ay.plot(p_x_values,b.value-a.value*p_x_values,'b')\n",
    "        ay.set_xlabel('$x$')\n",
    "        ay.set_ylabel('$p$')\n",
    "        ay.set_title('Total cost and Demand function')\n",
    "        ay.set_ylim(0,b.value)\n",
    "        ay.set_xlim(0,b.value/a.value)\n",
    "    Figure_9()"
   ]
  },
  {
   "cell_type": "code",
   "execution_count": null,
   "metadata": {},
   "outputs": [],
   "source": []
  }
 ],
 "metadata": {
  "kernelspec": {
   "display_name": "Python 3",
   "language": "python",
   "name": "python3"
  },
  "language_info": {
   "codemirror_mode": {
    "name": "ipython",
    "version": 3
   },
   "file_extension": ".py",
   "mimetype": "text/x-python",
   "name": "python",
   "nbconvert_exporter": "python",
   "pygments_lexer": "ipython3",
   "version": "3.7.1"
  }
 },
 "nbformat": 4,
 "nbformat_minor": 2
}
