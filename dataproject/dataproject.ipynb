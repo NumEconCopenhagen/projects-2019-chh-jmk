{
 "cells": [
  {
   "cell_type": "markdown",
   "metadata": {},
   "source": [
    "# **Project 1: Data Analysis Project**"
   ]
  },
  {
   "cell_type": "markdown",
   "metadata": {},
   "source": [
    "**By Christian Hjorth Hansen and Jacob Mai Kaaber**"
   ]
  },
  {
   "cell_type": "markdown",
   "metadata": {},
   "source": [
    "## **Introduction**"
   ]
  },
  {
   "cell_type": "markdown",
   "metadata": {},
   "source": [
    "In this project we look at the stock prices of the 3 biggest energy firms world wide. These 3 firms are *Exxon Mobile Corporation*, *Chevron Corporation* and *Royal Dutch Shell* (It should be mentioned, that due to the fact that Royal Dutch Shell has split their stocks in A and B, we only look at the B shares since they get traded more often). \n",
    " \n",
    "We will describe the devolpment of these 3 firms stock prices by presenting data visually and using methods from descreptive economics."
   ]
  },
  {
   "cell_type": "markdown",
   "metadata": {},
   "source": [
    "## **Importing packages**"
   ]
  },
  {
   "cell_type": "markdown",
   "metadata": {},
   "source": [
    "We start by importing all the necessary packages. "
   ]
  },
  {
   "cell_type": "code",
   "execution_count": 36,
   "metadata": {},
   "outputs": [],
   "source": [
    "import pandas as pd\n",
    "import matplotlib.pyplot as plt\n",
    "import datetime as datetime\n",
    "import pandas_datareader\n",
    "import numpy as np\n",
    "import ipywidgets as widgets"
   ]
  },
  {
   "cell_type": "markdown",
   "metadata": {},
   "source": [
    "## **Pick start- and enddate**"
   ]
  },
  {
   "cell_type": "markdown",
   "metadata": {},
   "source": [
    "Here we have chosen the 1st of January 2016 as the start date and the 20th of March as the end date. "
   ]
  },
  {
   "cell_type": "code",
   "execution_count": 2,
   "metadata": {},
   "outputs": [],
   "source": [
    "start = datetime.datetime(2016,1,1)\n",
    "end   = datetime.datetime(2019,3,20)"
   ]
  },
  {
   "cell_type": "markdown",
   "metadata": {},
   "source": [
    "## **Importing stock prices**"
   ]
  },
  {
   "cell_type": "markdown",
   "metadata": {},
   "source": [
    "We are going to import the data in 3 section, one for each firm. The data is being imported as daily data from IEX."
   ]
  },
  {
   "cell_type": "markdown",
   "metadata": {},
   "source": [
    "### Exxon Mobile Corporation"
   ]
  },
  {
   "cell_type": "markdown",
   "metadata": {},
   "source": [
    "**First** we import the data."
   ]
  },
  {
   "cell_type": "code",
   "execution_count": 3,
   "metadata": {},
   "outputs": [],
   "source": [
    "XOM = pandas_datareader.iex.daily.IEXDailyReader('XOM', start, end).read()"
   ]
  },
  {
   "cell_type": "markdown",
   "metadata": {},
   "source": [
    "**Next** we drop the variables, which we aren't going to use."
   ]
  },
  {
   "cell_type": "code",
   "execution_count": 4,
   "metadata": {},
   "outputs": [],
   "source": [
    "del XOM['open']\n",
    "del XOM['high']\n",
    "del XOM['low']"
   ]
  },
  {
   "cell_type": "markdown",
   "metadata": {},
   "source": [
    "**Next** we add 3 new variable, one with the company name, one which shows the closing prices demeaned and the last variable shows the precentage change in the closing price."
   ]
  },
  {
   "cell_type": "code",
   "execution_count": 5,
   "metadata": {},
   "outputs": [],
   "source": [
    "XOM['firm'] = 'Exxon Mobile'\n",
    "XOM['close_demeaned'] = XOM.groupby('firm')['close'].transform(lambda x: x - x.mean())\n",
    "XOM['percentage_change, %'] = ((XOM.close - XOM.close.shift(1)) / XOM.close.shift(1))*100"
   ]
  },
  {
   "cell_type": "markdown",
   "metadata": {},
   "source": [
    "**Lastly** we convert the date from index to dates using datetime"
   ]
  },
  {
   "cell_type": "code",
   "execution_count": 6,
   "metadata": {},
   "outputs": [],
   "source": [
    "XOM.index = pd.to_datetime(XOM.index)"
   ]
  },
  {
   "cell_type": "markdown",
   "metadata": {},
   "source": [
    "To test that the code works as expected we print the first 5 observations."
   ]
  },
  {
   "cell_type": "code",
   "execution_count": 7,
   "metadata": {},
   "outputs": [
    {
     "data": {
      "text/html": [
       "<div>\n",
       "<style scoped>\n",
       "    .dataframe tbody tr th:only-of-type {\n",
       "        vertical-align: middle;\n",
       "    }\n",
       "\n",
       "    .dataframe tbody tr th {\n",
       "        vertical-align: top;\n",
       "    }\n",
       "\n",
       "    .dataframe thead th {\n",
       "        text-align: right;\n",
       "    }\n",
       "</style>\n",
       "<table border=\"1\" class=\"dataframe\">\n",
       "  <thead>\n",
       "    <tr style=\"text-align: right;\">\n",
       "      <th></th>\n",
       "      <th>close</th>\n",
       "      <th>volume</th>\n",
       "      <th>firm</th>\n",
       "      <th>close_demeaned</th>\n",
       "      <th>percentage_change, %</th>\n",
       "    </tr>\n",
       "    <tr>\n",
       "      <th>date</th>\n",
       "      <th></th>\n",
       "      <th></th>\n",
       "      <th></th>\n",
       "      <th></th>\n",
       "      <th></th>\n",
       "    </tr>\n",
       "  </thead>\n",
       "  <tbody>\n",
       "    <tr>\n",
       "      <th>2016-01-04</th>\n",
       "      <td>67.8249</td>\n",
       "      <td>20400084</td>\n",
       "      <td>Exxon Mobile</td>\n",
       "      <td>-8.975557</td>\n",
       "      <td>NaN</td>\n",
       "    </tr>\n",
       "    <tr>\n",
       "      <th>2016-01-05</th>\n",
       "      <td>68.4028</td>\n",
       "      <td>11993500</td>\n",
       "      <td>Exxon Mobile</td>\n",
       "      <td>-8.397657</td>\n",
       "      <td>0.852047</td>\n",
       "    </tr>\n",
       "    <tr>\n",
       "      <th>2016-01-06</th>\n",
       "      <td>67.8337</td>\n",
       "      <td>18826900</td>\n",
       "      <td>Exxon Mobile</td>\n",
       "      <td>-8.966757</td>\n",
       "      <td>-0.831983</td>\n",
       "    </tr>\n",
       "    <tr>\n",
       "      <th>2016-01-07</th>\n",
       "      <td>66.7479</td>\n",
       "      <td>21263761</td>\n",
       "      <td>Exxon Mobile</td>\n",
       "      <td>-10.052557</td>\n",
       "      <td>-1.600679</td>\n",
       "    </tr>\n",
       "    <tr>\n",
       "      <th>2016-01-08</th>\n",
       "      <td>65.3995</td>\n",
       "      <td>19033628</td>\n",
       "      <td>Exxon Mobile</td>\n",
       "      <td>-11.400957</td>\n",
       "      <td>-2.020138</td>\n",
       "    </tr>\n",
       "  </tbody>\n",
       "</table>\n",
       "</div>"
      ],
      "text/plain": [
       "              close    volume          firm  close_demeaned  \\\n",
       "date                                                          \n",
       "2016-01-04  67.8249  20400084  Exxon Mobile       -8.975557   \n",
       "2016-01-05  68.4028  11993500  Exxon Mobile       -8.397657   \n",
       "2016-01-06  67.8337  18826900  Exxon Mobile       -8.966757   \n",
       "2016-01-07  66.7479  21263761  Exxon Mobile      -10.052557   \n",
       "2016-01-08  65.3995  19033628  Exxon Mobile      -11.400957   \n",
       "\n",
       "            percentage_change, %  \n",
       "date                              \n",
       "2016-01-04                   NaN  \n",
       "2016-01-05              0.852047  \n",
       "2016-01-06             -0.831983  \n",
       "2016-01-07             -1.600679  \n",
       "2016-01-08             -2.020138  "
      ]
     },
     "execution_count": 7,
     "metadata": {},
     "output_type": "execute_result"
    }
   ],
   "source": [
    "XOM.head()"
   ]
  },
  {
   "cell_type": "markdown",
   "metadata": {},
   "source": [
    "### Chevron Corporation"
   ]
  },
  {
   "cell_type": "markdown",
   "metadata": {},
   "source": [
    "**First** we import the data."
   ]
  },
  {
   "cell_type": "code",
   "execution_count": 8,
   "metadata": {},
   "outputs": [],
   "source": [
    "CVX = pandas_datareader.iex.daily.IEXDailyReader('CVX', start, end).read()"
   ]
  },
  {
   "cell_type": "markdown",
   "metadata": {},
   "source": [
    "**Next** we drop the variables, we are not going to use."
   ]
  },
  {
   "cell_type": "code",
   "execution_count": 9,
   "metadata": {},
   "outputs": [],
   "source": [
    "del CVX['open']\n",
    "del CVX['high']\n",
    "del CVX['low']"
   ]
  },
  {
   "cell_type": "markdown",
   "metadata": {},
   "source": [
    "**Next** we add a new variable with the company name."
   ]
  },
  {
   "cell_type": "code",
   "execution_count": 10,
   "metadata": {},
   "outputs": [],
   "source": [
    "CVX['firm'] = 'Chevron'\n",
    "CVX['close_demeaned'] = CVX.groupby('firm')['close'].transform(lambda x: x - x.mean())\n",
    "CVX['percentage_change, %'] = ((CVX.close - CVX.close.shift(1)) / CVX.close.shift(1))*100"
   ]
  },
  {
   "cell_type": "markdown",
   "metadata": {},
   "source": [
    "**Lastly** we convert the date from index to dates using datetime"
   ]
  },
  {
   "cell_type": "code",
   "execution_count": 11,
   "metadata": {},
   "outputs": [],
   "source": [
    "CVX.index = pd.to_datetime(CVX.index)"
   ]
  },
  {
   "cell_type": "markdown",
   "metadata": {},
   "source": [
    "And to test that the code works as expected we print the first 5 observations."
   ]
  },
  {
   "cell_type": "code",
   "execution_count": 12,
   "metadata": {},
   "outputs": [
    {
     "data": {
      "text/html": [
       "<div>\n",
       "<style scoped>\n",
       "    .dataframe tbody tr th:only-of-type {\n",
       "        vertical-align: middle;\n",
       "    }\n",
       "\n",
       "    .dataframe tbody tr th {\n",
       "        vertical-align: top;\n",
       "    }\n",
       "\n",
       "    .dataframe thead th {\n",
       "        text-align: right;\n",
       "    }\n",
       "</style>\n",
       "<table border=\"1\" class=\"dataframe\">\n",
       "  <thead>\n",
       "    <tr style=\"text-align: right;\">\n",
       "      <th></th>\n",
       "      <th>close</th>\n",
       "      <th>volume</th>\n",
       "      <th>firm</th>\n",
       "      <th>close_demeaned</th>\n",
       "      <th>percentage_change, %</th>\n",
       "    </tr>\n",
       "    <tr>\n",
       "      <th>date</th>\n",
       "      <th></th>\n",
       "      <th></th>\n",
       "      <th></th>\n",
       "      <th></th>\n",
       "      <th></th>\n",
       "    </tr>\n",
       "  </thead>\n",
       "  <tbody>\n",
       "    <tr>\n",
       "      <th>2016-01-04</th>\n",
       "      <td>77.9890</td>\n",
       "      <td>11397278</td>\n",
       "      <td>Chevron</td>\n",
       "      <td>-26.496242</td>\n",
       "      <td>NaN</td>\n",
       "    </tr>\n",
       "    <tr>\n",
       "      <th>2016-01-05</th>\n",
       "      <td>78.6561</td>\n",
       "      <td>7883427</td>\n",
       "      <td>Chevron</td>\n",
       "      <td>-25.829142</td>\n",
       "      <td>0.855377</td>\n",
       "    </tr>\n",
       "    <tr>\n",
       "      <th>2016-01-06</th>\n",
       "      <td>75.5488</td>\n",
       "      <td>14511395</td>\n",
       "      <td>Chevron</td>\n",
       "      <td>-28.936442</td>\n",
       "      <td>-3.950488</td>\n",
       "    </tr>\n",
       "    <tr>\n",
       "      <th>2016-01-07</th>\n",
       "      <td>72.8717</td>\n",
       "      <td>15368822</td>\n",
       "      <td>Chevron</td>\n",
       "      <td>-31.613542</td>\n",
       "      <td>-3.543537</td>\n",
       "    </tr>\n",
       "    <tr>\n",
       "      <th>2016-01-08</th>\n",
       "      <td>72.0905</td>\n",
       "      <td>11891638</td>\n",
       "      <td>Chevron</td>\n",
       "      <td>-32.394742</td>\n",
       "      <td>-1.072021</td>\n",
       "    </tr>\n",
       "  </tbody>\n",
       "</table>\n",
       "</div>"
      ],
      "text/plain": [
       "              close    volume     firm  close_demeaned  percentage_change, %\n",
       "date                                                                        \n",
       "2016-01-04  77.9890  11397278  Chevron      -26.496242                   NaN\n",
       "2016-01-05  78.6561   7883427  Chevron      -25.829142              0.855377\n",
       "2016-01-06  75.5488  14511395  Chevron      -28.936442             -3.950488\n",
       "2016-01-07  72.8717  15368822  Chevron      -31.613542             -3.543537\n",
       "2016-01-08  72.0905  11891638  Chevron      -32.394742             -1.072021"
      ]
     },
     "execution_count": 12,
     "metadata": {},
     "output_type": "execute_result"
    }
   ],
   "source": [
    "CVX.head()"
   ]
  },
  {
   "cell_type": "markdown",
   "metadata": {},
   "source": [
    "### Royal Dutch Shell (Shares B)"
   ]
  },
  {
   "cell_type": "markdown",
   "metadata": {},
   "source": [
    "**First** we import the data"
   ]
  },
  {
   "cell_type": "code",
   "execution_count": 13,
   "metadata": {},
   "outputs": [],
   "source": [
    "RDS = pandas_datareader.iex.daily.IEXDailyReader('RDS.B', start, end).read()"
   ]
  },
  {
   "cell_type": "markdown",
   "metadata": {},
   "source": [
    "**Next** we drop the variables, we are not going to use."
   ]
  },
  {
   "cell_type": "code",
   "execution_count": 14,
   "metadata": {},
   "outputs": [],
   "source": [
    "del RDS['open']\n",
    "del RDS['high']\n",
    "del RDS['low']"
   ]
  },
  {
   "cell_type": "markdown",
   "metadata": {},
   "source": [
    "**Next** we add a new variable with the company name."
   ]
  },
  {
   "cell_type": "code",
   "execution_count": 15,
   "metadata": {},
   "outputs": [],
   "source": [
    "RDS['firm'] = 'Shell'\n",
    "RDS['close_demeaned'] = RDS.groupby('firm')['close'].transform(lambda x: x - x.mean())\n",
    "RDS['percentage_change, %'] = ((RDS.close - RDS.close.shift(1)) / RDS.close.shift(1))*100"
   ]
  },
  {
   "cell_type": "markdown",
   "metadata": {},
   "source": [
    "**Lastly** we convert the date from index to dates using datetime"
   ]
  },
  {
   "cell_type": "code",
   "execution_count": 16,
   "metadata": {},
   "outputs": [],
   "source": [
    "RDS.index = pd.to_datetime(RDS.index)"
   ]
  },
  {
   "cell_type": "markdown",
   "metadata": {},
   "source": [
    "And to test that the code works as expected we print the first 5 observations."
   ]
  },
  {
   "cell_type": "code",
   "execution_count": 17,
   "metadata": {},
   "outputs": [
    {
     "data": {
      "text/html": [
       "<div>\n",
       "<style scoped>\n",
       "    .dataframe tbody tr th:only-of-type {\n",
       "        vertical-align: middle;\n",
       "    }\n",
       "\n",
       "    .dataframe tbody tr th {\n",
       "        vertical-align: top;\n",
       "    }\n",
       "\n",
       "    .dataframe thead th {\n",
       "        text-align: right;\n",
       "    }\n",
       "</style>\n",
       "<table border=\"1\" class=\"dataframe\">\n",
       "  <thead>\n",
       "    <tr style=\"text-align: right;\">\n",
       "      <th></th>\n",
       "      <th>close</th>\n",
       "      <th>volume</th>\n",
       "      <th>firm</th>\n",
       "      <th>close_demeaned</th>\n",
       "      <th>percentage_change, %</th>\n",
       "    </tr>\n",
       "    <tr>\n",
       "      <th>date</th>\n",
       "      <th></th>\n",
       "      <th></th>\n",
       "      <th></th>\n",
       "      <th></th>\n",
       "      <th></th>\n",
       "    </tr>\n",
       "  </thead>\n",
       "  <tbody>\n",
       "    <tr>\n",
       "      <th>2016-01-04</th>\n",
       "      <td>38.2145</td>\n",
       "      <td>3602883</td>\n",
       "      <td>Shell</td>\n",
       "      <td>-17.043389</td>\n",
       "      <td>NaN</td>\n",
       "    </tr>\n",
       "    <tr>\n",
       "      <th>2016-01-05</th>\n",
       "      <td>37.8684</td>\n",
       "      <td>2445582</td>\n",
       "      <td>Shell</td>\n",
       "      <td>-17.389489</td>\n",
       "      <td>-0.905677</td>\n",
       "    </tr>\n",
       "    <tr>\n",
       "      <th>2016-01-06</th>\n",
       "      <td>36.4097</td>\n",
       "      <td>2052720</td>\n",
       "      <td>Shell</td>\n",
       "      <td>-18.848189</td>\n",
       "      <td>-3.852024</td>\n",
       "    </tr>\n",
       "    <tr>\n",
       "      <th>2016-01-07</th>\n",
       "      <td>34.6461</td>\n",
       "      <td>5699700</td>\n",
       "      <td>Shell</td>\n",
       "      <td>-20.611789</td>\n",
       "      <td>-4.843764</td>\n",
       "    </tr>\n",
       "    <tr>\n",
       "      <th>2016-01-08</th>\n",
       "      <td>32.7011</td>\n",
       "      <td>11210025</td>\n",
       "      <td>Shell</td>\n",
       "      <td>-22.556789</td>\n",
       "      <td>-5.613907</td>\n",
       "    </tr>\n",
       "  </tbody>\n",
       "</table>\n",
       "</div>"
      ],
      "text/plain": [
       "              close    volume   firm  close_demeaned  percentage_change, %\n",
       "date                                                                      \n",
       "2016-01-04  38.2145   3602883  Shell      -17.043389                   NaN\n",
       "2016-01-05  37.8684   2445582  Shell      -17.389489             -0.905677\n",
       "2016-01-06  36.4097   2052720  Shell      -18.848189             -3.852024\n",
       "2016-01-07  34.6461   5699700  Shell      -20.611789             -4.843764\n",
       "2016-01-08  32.7011  11210025  Shell      -22.556789             -5.613907"
      ]
     },
     "execution_count": 17,
     "metadata": {},
     "output_type": "execute_result"
    }
   ],
   "source": [
    "RDS.head()"
   ]
  },
  {
   "cell_type": "markdown",
   "metadata": {},
   "source": [
    "## **Combining the data sets**"
   ]
  },
  {
   "cell_type": "markdown",
   "metadata": {},
   "source": [
    "**First** we combine the 3 data sets in one set called Top3_energy_stocks"
   ]
  },
  {
   "cell_type": "code",
   "execution_count": 18,
   "metadata": {},
   "outputs": [],
   "source": [
    "Top3_energy_stocks = pd.concat([XOM,CVX,RDS])"
   ]
  },
  {
   "cell_type": "markdown",
   "metadata": {},
   "source": [
    "And then we print the first 5 observations to test, whether the code works."
   ]
  },
  {
   "cell_type": "code",
   "execution_count": 19,
   "metadata": {},
   "outputs": [
    {
     "data": {
      "text/html": [
       "<div>\n",
       "<style scoped>\n",
       "    .dataframe tbody tr th:only-of-type {\n",
       "        vertical-align: middle;\n",
       "    }\n",
       "\n",
       "    .dataframe tbody tr th {\n",
       "        vertical-align: top;\n",
       "    }\n",
       "\n",
       "    .dataframe thead th {\n",
       "        text-align: right;\n",
       "    }\n",
       "</style>\n",
       "<table border=\"1\" class=\"dataframe\">\n",
       "  <thead>\n",
       "    <tr style=\"text-align: right;\">\n",
       "      <th></th>\n",
       "      <th>close</th>\n",
       "      <th>volume</th>\n",
       "      <th>firm</th>\n",
       "      <th>close_demeaned</th>\n",
       "      <th>percentage_change, %</th>\n",
       "    </tr>\n",
       "    <tr>\n",
       "      <th>date</th>\n",
       "      <th></th>\n",
       "      <th></th>\n",
       "      <th></th>\n",
       "      <th></th>\n",
       "      <th></th>\n",
       "    </tr>\n",
       "  </thead>\n",
       "  <tbody>\n",
       "    <tr>\n",
       "      <th>2016-01-04</th>\n",
       "      <td>67.8249</td>\n",
       "      <td>20400084</td>\n",
       "      <td>Exxon Mobile</td>\n",
       "      <td>-8.975557</td>\n",
       "      <td>NaN</td>\n",
       "    </tr>\n",
       "    <tr>\n",
       "      <th>2016-01-05</th>\n",
       "      <td>68.4028</td>\n",
       "      <td>11993500</td>\n",
       "      <td>Exxon Mobile</td>\n",
       "      <td>-8.397657</td>\n",
       "      <td>0.852047</td>\n",
       "    </tr>\n",
       "    <tr>\n",
       "      <th>2016-01-06</th>\n",
       "      <td>67.8337</td>\n",
       "      <td>18826900</td>\n",
       "      <td>Exxon Mobile</td>\n",
       "      <td>-8.966757</td>\n",
       "      <td>-0.831983</td>\n",
       "    </tr>\n",
       "    <tr>\n",
       "      <th>2016-01-07</th>\n",
       "      <td>66.7479</td>\n",
       "      <td>21263761</td>\n",
       "      <td>Exxon Mobile</td>\n",
       "      <td>-10.052557</td>\n",
       "      <td>-1.600679</td>\n",
       "    </tr>\n",
       "    <tr>\n",
       "      <th>2016-01-08</th>\n",
       "      <td>65.3995</td>\n",
       "      <td>19033628</td>\n",
       "      <td>Exxon Mobile</td>\n",
       "      <td>-11.400957</td>\n",
       "      <td>-2.020138</td>\n",
       "    </tr>\n",
       "  </tbody>\n",
       "</table>\n",
       "</div>"
      ],
      "text/plain": [
       "              close    volume          firm  close_demeaned  \\\n",
       "date                                                          \n",
       "2016-01-04  67.8249  20400084  Exxon Mobile       -8.975557   \n",
       "2016-01-05  68.4028  11993500  Exxon Mobile       -8.397657   \n",
       "2016-01-06  67.8337  18826900  Exxon Mobile       -8.966757   \n",
       "2016-01-07  66.7479  21263761  Exxon Mobile      -10.052557   \n",
       "2016-01-08  65.3995  19033628  Exxon Mobile      -11.400957   \n",
       "\n",
       "            percentage_change, %  \n",
       "date                              \n",
       "2016-01-04                   NaN  \n",
       "2016-01-05              0.852047  \n",
       "2016-01-06             -0.831983  \n",
       "2016-01-07             -1.600679  \n",
       "2016-01-08             -2.020138  "
      ]
     },
     "execution_count": 19,
     "metadata": {},
     "output_type": "execute_result"
    }
   ],
   "source": [
    "Top3_energy_stocks.head()"
   ]
  },
  {
   "cell_type": "markdown",
   "metadata": {},
   "source": [
    "## **Visualisations**"
   ]
  },
  {
   "cell_type": "markdown",
   "metadata": {},
   "source": [
    "In this section we create 4 figures. One for the closing price, one for the closing price demeaned, one for the precentage growth and one for the volume. The first 3 figures shows the devolopments for each of the 3 firms. We added a widget, which allows the reader to choose which firms to consider (The widget is by default set to look at all 3 firms). The last figure shows the volume, which has been divided into the 5 weekdays. "
   ]
  },
  {
   "cell_type": "markdown",
   "metadata": {},
   "source": [
    "### Closing price"
   ]
  },
  {
   "cell_type": "code",
   "execution_count": 1,
   "metadata": {},
   "outputs": [
    {
     "ename": "NameError",
     "evalue": "name 'widgets' is not defined",
     "output_type": "error",
     "traceback": [
      "\u001b[1;31m---------------------------------------------------------------------------\u001b[0m",
      "\u001b[1;31mNameError\u001b[0m                                 Traceback (most recent call last)",
      "\u001b[1;32m<ipython-input-1-4cff7b1692ff>\u001b[0m in \u001b[0;36m<module>\u001b[1;34m\u001b[0m\n\u001b[0;32m     19\u001b[0m         );\n\u001b[0;32m     20\u001b[0m \u001b[1;33m\u001b[0m\u001b[0m\n\u001b[1;32m---> 21\u001b[1;33m \u001b[0mFig1\u001b[0m\u001b[1;33m(\u001b[0m\u001b[1;33m)\u001b[0m\u001b[1;33m\u001b[0m\u001b[1;33m\u001b[0m\u001b[0m\n\u001b[0m",
      "\u001b[1;32m<ipython-input-1-4cff7b1692ff>\u001b[0m in \u001b[0;36mFig1\u001b[1;34m()\u001b[0m\n\u001b[0;32m     13\u001b[0m         \u001b[0mplt\u001b[0m\u001b[1;33m.\u001b[0m\u001b[0mtitle\u001b[0m\u001b[1;33m(\u001b[0m\u001b[1;34m'Figure 1: Closing price'\u001b[0m\u001b[1;33m)\u001b[0m\u001b[1;33m\u001b[0m\u001b[1;33m\u001b[0m\u001b[0m\n\u001b[0;32m     14\u001b[0m \u001b[1;33m\u001b[0m\u001b[0m\n\u001b[1;32m---> 15\u001b[1;33m     widgets.interact(fig,\n\u001b[0m\u001b[0;32m     16\u001b[0m            \u001b[0mtemp1\u001b[0m\u001b[1;33m=\u001b[0m\u001b[0mwidgets\u001b[0m\u001b[1;33m.\u001b[0m\u001b[0mCheckbox\u001b[0m\u001b[1;33m(\u001b[0m\u001b[0mdescription\u001b[0m\u001b[1;33m=\u001b[0m\u001b[1;34m'Exxon'\u001b[0m\u001b[1;33m,\u001b[0m \u001b[0mvalue\u001b[0m\u001b[1;33m=\u001b[0m\u001b[1;32mTrue\u001b[0m\u001b[1;33m,\u001b[0m \u001b[0mdisabled\u001b[0m\u001b[1;33m=\u001b[0m\u001b[1;32mFalse\u001b[0m\u001b[1;33m)\u001b[0m\u001b[1;33m,\u001b[0m\u001b[1;33m\u001b[0m\u001b[1;33m\u001b[0m\u001b[0m\n\u001b[0;32m     17\u001b[0m            \u001b[0mtemp2\u001b[0m\u001b[1;33m=\u001b[0m\u001b[0mwidgets\u001b[0m\u001b[1;33m.\u001b[0m\u001b[0mCheckbox\u001b[0m\u001b[1;33m(\u001b[0m\u001b[0mdescription\u001b[0m\u001b[1;33m=\u001b[0m\u001b[1;34m'Chevron'\u001b[0m\u001b[1;33m,\u001b[0m \u001b[0mvalue\u001b[0m\u001b[1;33m=\u001b[0m\u001b[1;32mTrue\u001b[0m\u001b[1;33m,\u001b[0m \u001b[0mdisabled\u001b[0m\u001b[1;33m=\u001b[0m\u001b[1;32mFalse\u001b[0m\u001b[1;33m)\u001b[0m\u001b[1;33m,\u001b[0m\u001b[1;33m\u001b[0m\u001b[1;33m\u001b[0m\u001b[0m\n",
      "\u001b[1;31mNameError\u001b[0m: name 'widgets' is not defined"
     ]
    }
   ],
   "source": [
    "def Fig1():\n",
    "    \n",
    "    def fig(temp1, temp2, temp3):\n",
    "        if temp1 == True:\n",
    "            XOM.groupby('firm')['close'].plot(legend=True, color='green')\n",
    "        if temp2 == True:\n",
    "            CVX.groupby('firm')['close'].plot(legend=True, color='blue')\n",
    "        if temp3 == True:\n",
    "            RDS.groupby('firm')['close'].plot(legend=True, color='orange')\n",
    "\n",
    "        plt.xlabel('Date')\n",
    "        plt.ylabel('Dollars')\n",
    "        plt.title('Figure 1: Closing price')\n",
    "\n",
    "    widgets.interact(fig,\n",
    "           temp1=widgets.Checkbox(description='Exxon', value=True, disabled=False),\n",
    "           temp2=widgets.Checkbox(description='Chevron', value=True, disabled=False),\n",
    "           temp3=widgets.Checkbox(description='Royal Dutch Shell', value=True, disabled=False),\n",
    "        );\n",
    "\n",
    "Fig1()"
   ]
  },
  {
   "cell_type": "markdown",
   "metadata": {},
   "source": [
    "We note that Chevron has the highest stockprice in the period. We also see that both Shell's and Chevron's stockprice have increased in the period, while Exxon's stockprice has been more stable. All firms seems to follow the same trend, which is seen clearly illustrated during the first quarter of 2018, where all the stockprices fell simultaneously. \n",
    "They co-move to some extend, which - among other things - might be due to them operating in the same industri (Energy production). Some market shocks are reltated to specific industries, while other are more generel. This means that firms operating in same industries tend to covariate more than firms from different industries. Some individual shock occur as well, but all the big shocks seems to take effect across the firms.  "
   ]
  },
  {
   "cell_type": "markdown",
   "metadata": {},
   "source": [
    "### Closing price demeaned"
   ]
  },
  {
   "cell_type": "code",
   "execution_count": 21,
   "metadata": {},
   "outputs": [
    {
     "data": {
      "application/vnd.jupyter.widget-view+json": {
       "model_id": "f81c3f0e52284b76907f7d51da9f9d37",
       "version_major": 2,
       "version_minor": 0
      },
      "text/plain": [
       "interactive(children=(Checkbox(value=True, description='Exxon'), Checkbox(value=True, description='Chevron'), …"
      ]
     },
     "metadata": {},
     "output_type": "display_data"
    }
   ],
   "source": [
    "def Fig2():\n",
    "    \n",
    "    def fig(temp1, temp2, temp3):\n",
    "        if temp1 == True:\n",
    "            XOM.groupby('firm')['close_demeaned'].plot(legend=True, color='green')\n",
    "        if temp2 == True:\n",
    "            CVX.groupby('firm')['close_demeaned'].plot(legend=True, color='blue')\n",
    "        if temp3 == True:\n",
    "            RDS.groupby('firm')['close_demeaned'].plot(legend=True, color='orange')\n",
    "        \n",
    "        plt.xlabel('Date')\n",
    "        plt.ylabel('Dollars')\n",
    "        plt.title('Figure 2: Closing price demeaned')\n",
    "\n",
    "    widgets.interact(fig,\n",
    "           temp1=widgets.Checkbox(description='Exxon', value=True, disabled=False),\n",
    "           temp2=widgets.Checkbox(description='Chevron', value=True, disabled=False),\n",
    "           temp3=widgets.Checkbox(description='Royal Dutch Shell', value=True, disabled=False),\n",
    "        );\n",
    "\n",
    "Fig2()"
   ]
  },
  {
   "cell_type": "markdown",
   "metadata": {},
   "source": [
    "Here we clearly see that both Chevron's and Shell's stockprice has risen since 2016 and almost at the same level, but since Chevron's stocksprice is higher than Shell's, it means that Shell's stockprice has risen relativly more in the period. Exxon's stockprice is almost at the same level as in 2016, and it only fluctuates around its average."
   ]
  },
  {
   "cell_type": "markdown",
   "metadata": {},
   "source": [
    "### Percentage change in the closing price"
   ]
  },
  {
   "cell_type": "code",
   "execution_count": 22,
   "metadata": {},
   "outputs": [
    {
     "data": {
      "application/vnd.jupyter.widget-view+json": {
       "model_id": "5b52e26c18fe44c4a193bc6592c4809f",
       "version_major": 2,
       "version_minor": 0
      },
      "text/plain": [
       "interactive(children=(Checkbox(value=True, description='Exxon'), Checkbox(value=True, description='Chevron'), …"
      ]
     },
     "metadata": {},
     "output_type": "display_data"
    }
   ],
   "source": [
    "XOM_C=XOM.copy()\n",
    "XOM_C=XOM.dropna(subset=['percentage_change, %'])\n",
    "CVX_C=CVX.copy()\n",
    "CVX_C=CVX.dropna(subset=['percentage_change, %'])\n",
    "RDS_C=RDS.copy()\n",
    "RDS_C=RDS.dropna(subset=['percentage_change, %'])\n",
    "\n",
    "def Fig3():\n",
    "    \n",
    "    def fig(temp1, temp2, temp3):\n",
    "        if temp1 == True:\n",
    "            XOM_C.groupby('firm')['percentage_change, %'].plot(legend=True, color='green')\n",
    "        if temp2 == True:\n",
    "            CVX_C.groupby('firm')['percentage_change, %'].plot(legend=True, color='blue')\n",
    "        if temp3 == True:\n",
    "            RDS_C.groupby('firm')['percentage_change, %'].plot(legend=True, color='orange')\n",
    "        \n",
    "        plt.xlabel('Date');\n",
    "        plt.ylabel('Percent');\n",
    "        plt.title('Figure 3: Percentage change in closing price');\n",
    "\n",
    "    widgets.interact(fig,\n",
    "           temp1=widgets.Checkbox(description='Exxon', value=True, disabled=False),\n",
    "           temp2=widgets.Checkbox(description='Chevron', value=True, disabled=False),\n",
    "           temp3=widgets.Checkbox(description='Royal Dutch Shell', value=True, disabled=False),\n",
    "        );\n",
    "\n",
    "Fig3()"
   ]
  },
  {
   "cell_type": "markdown",
   "metadata": {},
   "source": [
    "Looking at the percentage change we see that they all more or less comove. We also see that the percentage change in the stockprice for both Shell and Chevron lies slightly above 0, which is consistent with figure 1 and 2. In this figure we also see the outliers more clearly, and espicially the decrease in Shell's stockprice in medio 2016. "
   ]
  },
  {
   "cell_type": "markdown",
   "metadata": {},
   "source": [
    "### Volume grouped by weekdays"
   ]
  },
  {
   "cell_type": "code",
   "execution_count": 23,
   "metadata": {},
   "outputs": [
    {
     "data": {
      "image/png": "[encoded data removed]",
      "text/plain": [
       "<Figure size 432x288 with 1 Axes>"
      ]
     },
     "metadata": {
      "needs_background": "light"
     },
     "output_type": "display_data"
    }
   ],
   "source": [
    "Top3_energy_stocks_C=Top3_energy_stocks.copy()\n",
    "Top3_energy_stocks_C['Weekday'] = Top3_energy_stocks_C.index.weekday\n",
    "ax1 = Top3_energy_stocks_C.groupby('Weekday')['volume'].mean().plot(kind='bar', color='purple') \n",
    "ax1.set_ylabel('Average number of traded stocks')\n",
    "ax1.set_title('Figure 4: Average number of traded stocks divided by weekdays')\n",
    "ax1.set_xlabel('')\n",
    "plt.xticks(np.arange(5),('Monday','Tuesday','Wednesday','Thursday','Friday'), rotation='horizontal')\n",
    "for txt in ax1.texts:\n",
    "    txt.set_visible(False)"
   ]
  },
  {
   "cell_type": "markdown",
   "metadata": {},
   "source": [
    "Here we see that the average number of traded stocks is rising through the week, which means that the number of traded stocks monday is less than the traded stocks friday. We also see that the average number of traded stocks on a weekday is approximately 7 billion."
   ]
  },
  {
   "cell_type": "markdown",
   "metadata": {},
   "source": [
    "## **Descriptive statistics**"
   ]
  },
  {
   "cell_type": "markdown",
   "metadata": {},
   "source": [
    "First we define all of the statistical variables, that we are going to use to describe our dataset."
   ]
  },
  {
   "cell_type": "code",
   "execution_count": 24,
   "metadata": {},
   "outputs": [],
   "source": [
    "# First we find the number of observations (Remember that precentage change is missing the first value for each firm)\n",
    "Observations=round(Top3_energy_stocks['close'].count(),0)\n",
    "\n",
    "# Next we find the average\n",
    "Avg_closing_price=round(Top3_energy_stocks['close'].mean(),2)\n",
    "Avg_volume=round(Top3_energy_stocks['volume'].mean(),2)\n",
    "Avg_closing_demeaned=round(Top3_energy_stocks['close_demeaned'].mean(),2)"
   ]
  },
  {
   "cell_type": "code",
   "execution_count": 25,
   "metadata": {},
   "outputs": [],
   "source": [
    "# First we find the observations\n",
    "Observations_XOM=round(XOM['close'].count(),0)\n",
    "\n",
    "# Next we find the average (Here we notice that since we got precentage change, we need to use a formula to calculate the average precentage change)\n",
    "Avg_closing_price_XOM=round(XOM['close'].mean(),2)\n",
    "Avg_volume_XOM=round(XOM['volume'].mean(),2)\n",
    "Avg_closing_demeaned_XOM=round(XOM['close_demeaned'].mean(),2)\n",
    "Avg_precentage_change_XOM=round(((XOM.close[-1]/XOM.close[0])**(1/Observations_XOM)-1)*100,2)\n",
    "\n",
    "# Next we calculate the standard diviation\n",
    "Std_closing_price_XOM=round(XOM['close'].std(),2)\n",
    "Std_volume_XOM=round(XOM['volume'].std(),2)\n",
    "Std_close_demeaned_XOM=round(XOM['close_demeaned'].std(),2)\n",
    "\n",
    "# Next we find the minimum value and which day this occured\n",
    "Min_closing_price_XOM=round(XOM['close'].min(),2)\n",
    "Min_volume_XOM=round(XOM['volume'].min(),2)\n",
    "Min_close_demeaned_XOM=round(XOM['close_demeaned'].min(),2)\n",
    "\n",
    "# Next we find the maximum value and which day this occured\n",
    "Max_closing_price_XOM=round(XOM['close'].max(),2)\n",
    "Max_volume_XOM=round(XOM['volume'].max(),2)\n",
    "Max_close_demeaned_XOM=round(XOM['close_demeaned'].max(),2)\n",
    "\n",
    "# And lastly we find the median, which we do by first finding the middle observation\n",
    "XOM_median_obs=(Observations_XOM)//2\n",
    "Median_closing_price_XOM=round(XOM.close[XOM_median_obs],2)\n",
    "Median_volume_XOM=round(XOM.volume[XOM_median_obs],2)\n",
    "Median_closing_demeaned_XOM=round(XOM.close_demeaned[XOM_median_obs],2)"
   ]
  },
  {
   "cell_type": "code",
   "execution_count": 26,
   "metadata": {},
   "outputs": [],
   "source": [
    "# First we find the observations\n",
    "Observations_CVX=round(CVX['close'].count(),0)\n",
    "\n",
    "# Next we find the average (Here we notice that since we got precentage change, we need to use a formula to calculate the average precentage change)\n",
    "Avg_closing_price_CVX=round(CVX['close'].mean(),2)\n",
    "Avg_volume_CVX=round(CVX['volume'].mean(),2)\n",
    "Avg_closing_demeaned_CVX=round(CVX['close_demeaned'].mean(),2)\n",
    "Avg_precentage_change_CVX=round(((CVX.close[-1]/CVX.close[0])**(1/Observations_CVX)-1)*100,2)\n",
    "\n",
    "# Next we calculate the standard diviation\n",
    "Std_closing_price_CVX=round(CVX['close'].std(),2)\n",
    "Std_volume_CVX=round(CVX['volume'].std(),2)\n",
    "Std_close_demeaned_CVX=round(CVX['close_demeaned'].std(),2)\n",
    "\n",
    "# Next we find the minimum value and which day this occured\n",
    "Min_closing_price_CVX=round(CVX['close'].min(),2)\n",
    "Min_volume_CVX=round(CVX['volume'].min(),2)\n",
    "Min_close_demeaned_CVX=round(CVX['close_demeaned'].min(),2)\n",
    "\n",
    "# Next we find the maximum value and which day this occured\n",
    "Max_closing_price_CVX=round(CVX['close'].max(),2)\n",
    "Max_volume_CVX=round(CVX['volume'].max(),2)\n",
    "Max_close_demeaned_CVX=round(CVX['close_demeaned'].max(),2)\n",
    "\n",
    "# And lastly we find the median, which we do by first finding the middle observation\n",
    "CVX_median_obs=(Observations_CVX)//2\n",
    "Median_closing_price_CVX=round(CVX.close[CVX_median_obs],2)\n",
    "Median_volume_CVX=round(CVX.volume[CVX_median_obs],2)\n",
    "Median_closing_demeaned_CVX=round(CVX.close_demeaned[CVX_median_obs],2)"
   ]
  },
  {
   "cell_type": "code",
   "execution_count": 27,
   "metadata": {},
   "outputs": [],
   "source": [
    "# First we find the observations\n",
    "Observations_RDS=round(RDS['close'].count(),0)\n",
    "\n",
    "# Next we find the average (Here we notice that since we got precentage change, we need to use a formula to calculate the average precentage change)\n",
    "Avg_closing_price_RDS=round(RDS['close'].mean(),2)\n",
    "Avg_volume_RDS=round(RDS['volume'].mean(),2)\n",
    "Avg_closing_demeaned_RDS=round(RDS['close_demeaned'].mean(),2)\n",
    "Avg_precentage_change_RDS=round(((RDS.close[-1]/RDS.close[0])**(1/Observations_RDS)-1)*100,2)\n",
    "\n",
    "# Next we calculate the standard diviation\n",
    "Std_closing_price_RDS=round(RDS['close'].std(),2)\n",
    "Std_volume_RDS=round(RDS['volume'].std(),2)\n",
    "Std_close_demeaned_RDS=round(RDS['close_demeaned'].std(),2)\n",
    "\n",
    "# Next we find the minimum value and which day this occured\n",
    "Min_closing_price_RDS=round(RDS['close'].min(),2)\n",
    "Min_volume_RDS=round(RDS['volume'].min(),2)\n",
    "Min_close_demeaned_RDS=round(RDS['close_demeaned'].min(),2)\n",
    "\n",
    "# Next we find the maximum value and which day this occured\n",
    "Max_closing_price_RDS=round(RDS['close'].max(),2)\n",
    "Max_volume_RDS=round(RDS['volume'].max(),2)\n",
    "Max_close_demeaned_RDS=round(RDS['close_demeaned'].max(),2)\n",
    "\n",
    "# And lastly we find the median, which we do by first finding the middle observation\n",
    "RDS_median_obs=(Observations_RDS)//2\n",
    "Median_closing_price_RDS=round(RDS.close[RDS_median_obs],2)\n",
    "Median_volume_RDS=round(RDS.volume[RDS_median_obs],2)\n",
    "Median_closing_demeaned_RDS=round(RDS.close_demeaned[RDS_median_obs],2)"
   ]
  },
  {
   "cell_type": "markdown",
   "metadata": {},
   "source": [
    "And then we combine all the variables in one table"
   ]
  },
  {
   "cell_type": "code",
   "execution_count": 35,
   "metadata": {},
   "outputs": [
    {
     "data": {
      "text/html": [
       "<div>\n",
       "<style scoped>\n",
       "    .dataframe tbody tr th:only-of-type {\n",
       "        vertical-align: middle;\n",
       "    }\n",
       "\n",
       "    .dataframe tbody tr th {\n",
       "        vertical-align: top;\n",
       "    }\n",
       "\n",
       "    .dataframe thead th {\n",
       "        text-align: right;\n",
       "    }\n",
       "</style>\n",
       "<table border=\"1\" class=\"dataframe\">\n",
       "  <thead>\n",
       "    <tr style=\"text-align: right;\">\n",
       "      <th></th>\n",
       "      <th>All firms</th>\n",
       "      <th>Exxon Mobile</th>\n",
       "      <th>Chevron</th>\n",
       "      <th>Shell</th>\n",
       "    </tr>\n",
       "  </thead>\n",
       "  <tbody>\n",
       "    <tr>\n",
       "      <th>Observations</th>\n",
       "      <td>2424</td>\n",
       "      <td>808</td>\n",
       "      <td>808</td>\n",
       "      <td>808</td>\n",
       "    </tr>\n",
       "    <tr>\n",
       "      <th></th>\n",
       "      <td></td>\n",
       "      <td></td>\n",
       "      <td></td>\n",
       "      <td></td>\n",
       "    </tr>\n",
       "    <tr>\n",
       "      <th>Closing price</th>\n",
       "      <td></td>\n",
       "      <td></td>\n",
       "      <td></td>\n",
       "      <td></td>\n",
       "    </tr>\n",
       "    <tr>\n",
       "      <th>Average</th>\n",
       "      <td>78.85</td>\n",
       "      <td>76.8</td>\n",
       "      <td>104.49</td>\n",
       "      <td>55.26</td>\n",
       "    </tr>\n",
       "    <tr>\n",
       "      <th>Standard deviation</th>\n",
       "      <td></td>\n",
       "      <td>3.77</td>\n",
       "      <td>13.13</td>\n",
       "      <td>9.99</td>\n",
       "    </tr>\n",
       "    <tr>\n",
       "      <th>Minimum</th>\n",
       "      <td></td>\n",
       "      <td>64.08</td>\n",
       "      <td>69.33</td>\n",
       "      <td>30.46</td>\n",
       "    </tr>\n",
       "    <tr>\n",
       "      <th>Maximum</th>\n",
       "      <td></td>\n",
       "      <td>84.79</td>\n",
       "      <td>127.36</td>\n",
       "      <td>74.53</td>\n",
       "    </tr>\n",
       "    <tr>\n",
       "      <th>Median</th>\n",
       "      <td></td>\n",
       "      <td>74.31</td>\n",
       "      <td>102.96</td>\n",
       "      <td>53.77</td>\n",
       "    </tr>\n",
       "    <tr>\n",
       "      <th></th>\n",
       "      <td></td>\n",
       "      <td></td>\n",
       "      <td></td>\n",
       "      <td></td>\n",
       "    </tr>\n",
       "    <tr>\n",
       "      <th>Closing price demeaned</th>\n",
       "      <td></td>\n",
       "      <td></td>\n",
       "      <td></td>\n",
       "      <td></td>\n",
       "    </tr>\n",
       "    <tr>\n",
       "      <th>Average</th>\n",
       "      <td>-0</td>\n",
       "      <td>-0</td>\n",
       "      <td>-0</td>\n",
       "      <td>-0</td>\n",
       "    </tr>\n",
       "    <tr>\n",
       "      <th>Standard deviation</th>\n",
       "      <td></td>\n",
       "      <td>3.77</td>\n",
       "      <td>13.13</td>\n",
       "      <td>9.99</td>\n",
       "    </tr>\n",
       "    <tr>\n",
       "      <th>Minimum</th>\n",
       "      <td></td>\n",
       "      <td>-12.72</td>\n",
       "      <td>-35.16</td>\n",
       "      <td>-24.8</td>\n",
       "    </tr>\n",
       "    <tr>\n",
       "      <th>Maximum</th>\n",
       "      <td></td>\n",
       "      <td>7.99</td>\n",
       "      <td>22.87</td>\n",
       "      <td>19.28</td>\n",
       "    </tr>\n",
       "    <tr>\n",
       "      <th>Median</th>\n",
       "      <td></td>\n",
       "      <td>-2.49</td>\n",
       "      <td>-1.53</td>\n",
       "      <td>-1.49</td>\n",
       "    </tr>\n",
       "    <tr>\n",
       "      <th></th>\n",
       "      <td></td>\n",
       "      <td></td>\n",
       "      <td></td>\n",
       "      <td></td>\n",
       "    </tr>\n",
       "    <tr>\n",
       "      <th>Precentage change in closing price</th>\n",
       "      <td></td>\n",
       "      <td></td>\n",
       "      <td></td>\n",
       "      <td></td>\n",
       "    </tr>\n",
       "    <tr>\n",
       "      <th>Average</th>\n",
       "      <td></td>\n",
       "      <td>0.02</td>\n",
       "      <td>0.06</td>\n",
       "      <td>0.07</td>\n",
       "    </tr>\n",
       "    <tr>\n",
       "      <th></th>\n",
       "      <td></td>\n",
       "      <td></td>\n",
       "      <td></td>\n",
       "      <td></td>\n",
       "    </tr>\n",
       "    <tr>\n",
       "      <th>Volume</th>\n",
       "      <td></td>\n",
       "      <td></td>\n",
       "      <td></td>\n",
       "      <td></td>\n",
       "    </tr>\n",
       "    <tr>\n",
       "      <th>Average</th>\n",
       "      <td>7.08486e+06</td>\n",
       "      <td>1.23974e+07</td>\n",
       "      <td>6.74177e+06</td>\n",
       "      <td>2.11541e+06</td>\n",
       "    </tr>\n",
       "    <tr>\n",
       "      <th>Standard deviation</th>\n",
       "      <td></td>\n",
       "      <td>4.93813e+06</td>\n",
       "      <td>2.71579e+06</td>\n",
       "      <td>1.30203e+06</td>\n",
       "    </tr>\n",
       "    <tr>\n",
       "      <th>Minimum</th>\n",
       "      <td></td>\n",
       "      <td>3851283</td>\n",
       "      <td>1744165</td>\n",
       "      <td>436660</td>\n",
       "    </tr>\n",
       "    <tr>\n",
       "      <th>Maximum</th>\n",
       "      <td></td>\n",
       "      <td>47287319</td>\n",
       "      <td>26151133</td>\n",
       "      <td>15668717</td>\n",
       "    </tr>\n",
       "    <tr>\n",
       "      <th>Median</th>\n",
       "      <td></td>\n",
       "      <td>12580300</td>\n",
       "      <td>4950662</td>\n",
       "      <td>1167638</td>\n",
       "    </tr>\n",
       "  </tbody>\n",
       "</table>\n",
       "</div>"
      ],
      "text/plain": [
       "                                      All firms Exxon Mobile      Chevron  \\\n",
       "Observations                               2424          808          808   \n",
       "                                                                            \n",
       "Closing price                                                               \n",
       "Average                                   78.85         76.8       104.49   \n",
       "Standard deviation                                      3.77        13.13   \n",
       "Minimum                                                64.08        69.33   \n",
       "Maximum                                                84.79       127.36   \n",
       "Median                                                 74.31       102.96   \n",
       "                                                                            \n",
       "Closing price demeaned                                                      \n",
       "Average                                      -0           -0           -0   \n",
       "Standard deviation                                      3.77        13.13   \n",
       "Minimum                                               -12.72       -35.16   \n",
       "Maximum                                                 7.99        22.87   \n",
       "Median                                                 -2.49        -1.53   \n",
       "                                                                            \n",
       "Precentage change in closing price                                          \n",
       "Average                                                 0.02         0.06   \n",
       "                                                                            \n",
       "Volume                                                                      \n",
       "Average                             7.08486e+06  1.23974e+07  6.74177e+06   \n",
       "Standard deviation                               4.93813e+06  2.71579e+06   \n",
       "Minimum                                              3851283      1744165   \n",
       "Maximum                                             47287319     26151133   \n",
       "Median                                              12580300      4950662   \n",
       "\n",
       "                                          Shell  \n",
       "Observations                                808  \n",
       "                                                 \n",
       "Closing price                                    \n",
       "Average                                   55.26  \n",
       "Standard deviation                         9.99  \n",
       "Minimum                                   30.46  \n",
       "Maximum                                   74.53  \n",
       "Median                                    53.77  \n",
       "                                                 \n",
       "Closing price demeaned                           \n",
       "Average                                      -0  \n",
       "Standard deviation                         9.99  \n",
       "Minimum                                   -24.8  \n",
       "Maximum                                   19.28  \n",
       "Median                                    -1.49  \n",
       "                                                 \n",
       "Precentage change in closing price               \n",
       "Average                                    0.07  \n",
       "                                                 \n",
       "Volume                                           \n",
       "Average                             2.11541e+06  \n",
       "Standard deviation                  1.30203e+06  \n",
       "Minimum                                  436660  \n",
       "Maximum                                15668717  \n",
       "Median                                  1167638  "
      ]
     },
     "execution_count": 35,
     "metadata": {},
     "output_type": "execute_result"
    }
   ],
   "source": [
    "TableL1 = pd.DataFrame({'All firms':Observations,'Exxon Mobile':Observations_XOM,'Chevron':Observations_CVX,'Shell':Observations_RDS}, index=['Observations'])\n",
    "\n",
    "TableLL = pd.DataFrame({'All firms':'','Exxon Mobile':'','Chevron':'','Shell':''}, index=[''])\n",
    "\n",
    "TableL2 = pd.DataFrame({'All firms':'','Exxon Mobile':'','Chevron':'','Shell':''}, index=['Closing price'])\n",
    "TableL3 = pd.DataFrame({'All firms':Avg_closing_price,'Exxon Mobile':Avg_closing_price_XOM,'Chevron':Avg_closing_price_CVX,'Shell':Avg_closing_price_RDS}, index=['Average'])\n",
    "TableL4 = pd.DataFrame({'All firms':'','Exxon Mobile':Std_closing_price_XOM,'Chevron':Std_closing_price_CVX,'Shell':Std_closing_price_RDS}, index=['Standard deviation'])\n",
    "TableL5 = pd.DataFrame({'All firms':'','Exxon Mobile':Min_closing_price_XOM,'Chevron':Min_closing_price_CVX,'Shell':Min_closing_price_RDS}, index=['Minimum'])\n",
    "TableL6 = pd.DataFrame({'All firms':'','Exxon Mobile':Max_closing_price_XOM,'Chevron':Max_closing_price_CVX,'Shell':Max_closing_price_RDS}, index=['Maximum'])\n",
    "TableL7 = pd.DataFrame({'All firms':'','Exxon Mobile':Median_closing_price_XOM,'Chevron':Median_closing_price_CVX,'Shell':Median_closing_price_RDS}, index=['Median'])\n",
    "\n",
    "TableL8 = pd.DataFrame({'All firms':'','Exxon Mobile':'','Chevron':'','Shell':''}, index=['Closing price demeaned'])\n",
    "TableL9 = pd.DataFrame({'All firms':Avg_closing_demeaned,'Exxon Mobile':Avg_closing_demeaned_XOM,'Chevron':Avg_closing_demeaned_CVX,'Shell':Avg_closing_demeaned_RDS}, index=['Average'])\n",
    "TableL10 = pd.DataFrame({'All firms':'','Exxon Mobile':Std_close_demeaned_XOM,'Chevron':Std_close_demeaned_CVX,'Shell':Std_close_demeaned_RDS}, index=['Standard deviation'])\n",
    "TableL11 = pd.DataFrame({'All firms':'','Exxon Mobile':Min_close_demeaned_XOM,'Chevron':Min_close_demeaned_CVX,'Shell':Min_close_demeaned_RDS}, index=['Minimum'])\n",
    "TableL12 = pd.DataFrame({'All firms':'','Exxon Mobile':Max_close_demeaned_XOM,'Chevron':Max_close_demeaned_CVX,'Shell':Max_close_demeaned_RDS}, index=['Maximum'])\n",
    "TableL13 = pd.DataFrame({'All firms':'','Exxon Mobile':Median_closing_demeaned_XOM,'Chevron':Median_closing_demeaned_CVX,'Shell':Median_closing_demeaned_RDS}, index=['Median'])\n",
    "\n",
    "TableL14 = pd.DataFrame({'All firms':'','Exxon Mobile':'','Chevron':'','Shell':''}, index=['Precentage change in closing price'])\n",
    "TableL15 = pd.DataFrame({'All firms':'','Exxon Mobile':Avg_precentage_change_XOM,'Chevron':Avg_precentage_change_CVX,'Shell':Avg_precentage_change_RDS}, index=['Average'])\n",
    "\n",
    "TableL16 = pd.DataFrame({'All firms':'','Exxon Mobile':'','Chevron':'','Shell':''}, index=['Volume'])\n",
    "TableL17 = pd.DataFrame({'All firms':Avg_volume,'Exxon Mobile':Avg_volume_XOM,'Chevron':Avg_volume_CVX,'Shell':Avg_volume_RDS}, index=['Average'])\n",
    "TableL18 = pd.DataFrame({'All firms':'','Exxon Mobile':Std_volume_XOM,'Chevron':Std_volume_CVX,'Shell':Std_volume_RDS}, index=['Standard deviation'])\n",
    "TableL19 = pd.DataFrame({'All firms':'','Exxon Mobile':Min_volume_XOM,'Chevron':Min_volume_CVX,'Shell':Min_volume_RDS}, index=['Minimum'])\n",
    "TableL20 = pd.DataFrame({'All firms':'','Exxon Mobile':Max_volume_XOM,'Chevron':Max_volume_CVX,'Shell':Max_volume_RDS}, index=['Maximum'])\n",
    "TableL21 = pd.DataFrame({'All firms':'','Exxon Mobile':Median_volume_XOM,'Chevron':Median_volume_CVX,'Shell':Median_volume_RDS}, index=['Median'])\n",
    "\n",
    "Table1 = pd.concat([TableL1,TableLL,TableL2,TableL3,TableL4,TableL5,TableL6,TableL7,TableLL,TableL8,TableL9,TableL10,TableL11,TableL12,TableL13,TableLL,TableL14,TableL15,TableLL,TableL16,TableL17,TableL18,TableL19,TableL20,TableL21])\n",
    "\n",
    "Table1"
   ]
  },
  {
   "cell_type": "markdown",
   "metadata": {},
   "source": [
    "In the table we see that the number of observations add up since there are 808 in each of the firms dataset and 2424 in the collective dataset. When we look at the closing price, we see that the average closing price is highest for Chevron (104.5 dollars), which we also saw in figure 1. Shell has the lowest (average) stock price, which is 55.26 dollars. When considering the volatility we see that Chevron and Shell are more volatile than Exxon, which we also see when looking at the highest and lowest stock price in the period for each of the 3 firms. Here we see that the spand between min and max for Exxon is much smaller than it is for Chevron and Shell. The closing price demeaned average is 0 for all firms and the standard deviation is the same as for closing price. This is due to the definitation of the variable. We also see that Chevron experienced both the highest postive change (22.87 dollars) and negative change (-35.16 dollars), although we would anticipate this since Chevron's stockprice is higher in terms of an absolute value. When we look at the average change in the closing price, we get that Shell has grown relativly more than the 2 other firms. Shell has an average percentage change in the closing price at 0.07% per day. Lastly, we look at the volume, where we see that Exxon is the most traded stock with an average of 12.4 billion stocks traded a day, this can be explained by the lower price compared to Chevron. The reason why Shell doesn't get traded as much could be the number of shares and because we only look at the B-shares. When looking at the maksimum number of traded stocks, we see that one day the Exxon stocks were traded 47,3 billion times. And when looking at the minimum we see that only 436.660 of the Shell stock was traded one day."
   ]
  }
 ],
 "metadata": {
  "kernelspec": {
   "display_name": "Python 3",
   "language": "python",
   "name": "python3"
  },
  "language_info": {
   "codemirror_mode": {
    "name": "ipython",
    "version": 3
   },
   "file_extension": ".py",
   "mimetype": "text/x-python",
   "name": "python",
   "nbconvert_exporter": "python",
   "pygments_lexer": "ipython3",
   "version": "3.7.1"
  }
 },
 "nbformat": 4,
 "nbformat_minor": 2
}
