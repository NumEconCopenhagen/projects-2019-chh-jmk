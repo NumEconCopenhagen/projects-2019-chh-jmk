{
 "cells": [
  {
   "cell_type": "markdown",
   "metadata": {},
   "source": [
    "# **Project 1: Data Analysis Project**"
   ]
  },
  {
   "cell_type": "markdown",
   "metadata": {},
   "source": [
    "**By Christian Hjorth Hansen and Jacob Mai Kaaber**"
   ]
  },
  {
   "cell_type": "markdown",
   "metadata": {},
   "source": [
    "## **Introduction**"
   ]
  },
  {
   "cell_type": "markdown",
   "metadata": {},
   "source": [
    "This project focuses on analyzing the stock market prices of the three biggest energy firms world wide, based on turnover. The considered firms are *Exxon Mobile Corparation*, *Chevron Corporation* and *Royal Dutch Shell* (it should be mentioned that we consider the B share of Royal Dutch Shell as these are traded more frequently).\n",
    "For further analyzis we include a weighted averge of the three firms and oil prices later on.\n",
    "\n",
    "Our analyzis is primarily carried out by presenting data visually and using methods from descreptive economics."
   ]
  },
  {
   "cell_type": "markdown",
   "metadata": {},
   "source": [
    "## **Importing packages**"
   ]
  },
  {
   "cell_type": "markdown",
   "metadata": {},
   "source": [
    "We start by importing all the necessary packages for our analyzis. "
   ]
  },
  {
   "cell_type": "code",
   "execution_count": 133,
   "metadata": {},
   "outputs": [],
   "source": [
    "import pandas as pd\n",
    "import matplotlib.pyplot as plt\n",
    "from mpl_toolkits.mplot3d import Axes3D\n",
    "from scipy.interpolate import griddata\n",
    "import datetime as datetime\n",
    "import pandas_datareader\n",
    "import numpy as np\n",
    "import ipywidgets as widgets\n",
    "import warnings\n",
    "warnings.simplefilter(action='ignore', category=FutureWarning)\n",
    "warnings.simplefilter(action='ignore', category=RuntimeWarning)"
   ]
  },
  {
   "cell_type": "markdown",
   "metadata": {},
   "source": [
    "## **Pick start and end date**"
   ]
  },
  {
   "cell_type": "markdown",
   "metadata": {},
   "source": [
    "Here we have chosen the 1st of January 2016 as the start date and the 20th of March as the end date of our sample. "
   ]
  },
  {
   "cell_type": "code",
   "execution_count": 93,
   "metadata": {},
   "outputs": [],
   "source": [
    "start = datetime.datetime(2016,1,1)\n",
    "end   = datetime.datetime(2019,3,20)"
   ]
  },
  {
   "cell_type": "markdown",
   "metadata": {},
   "source": [
    "## **Importing stock prices**"
   ]
  },
  {
   "cell_type": "markdown",
   "metadata": {},
   "source": [
    "We are going to import the data in three section, one for each firm. The data is being imported as daily data from IEX."
   ]
  },
  {
   "cell_type": "markdown",
   "metadata": {},
   "source": [
    "### Exxon Mobile Corporation"
   ]
  },
  {
   "cell_type": "markdown",
   "metadata": {},
   "source": [
    "**First** we import the data."
   ]
  },
  {
   "cell_type": "code",
   "execution_count": 94,
   "metadata": {},
   "outputs": [],
   "source": [
    "XOM = pandas_datareader.iex.daily.IEXDailyReader('XOM', start, end).read()"
   ]
  },
  {
   "cell_type": "markdown",
   "metadata": {},
   "source": [
    "**Next** we drop the variables, which we aren't going to use (the opening, highest and lowest price during a trading day)."
   ]
  },
  {
   "cell_type": "code",
   "execution_count": 95,
   "metadata": {},
   "outputs": [],
   "source": [
    "del XOM['open']\n",
    "del XOM['high']\n",
    "del XOM['low']"
   ]
  },
  {
   "cell_type": "markdown",
   "metadata": {},
   "source": [
    "**Next** we add three new variable: The company name, the closing prices demeaned and the percentage change in the closing price."
   ]
  },
  {
   "cell_type": "code",
   "execution_count": 96,
   "metadata": {},
   "outputs": [],
   "source": [
    "XOM['firm'] = 'Exxon Mobile'\n",
    "XOM['close_demeaned'] = XOM.groupby('firm')['close'].transform(lambda x: x - x.mean())\n",
    "XOM['percentage_change, %'] = ((XOM.close - XOM.close.shift(1)) / XOM.close.shift(1))*100"
   ]
  },
  {
   "cell_type": "markdown",
   "metadata": {},
   "source": [
    "**Lastly** we convert the date from index to dates using datetime"
   ]
  },
  {
   "cell_type": "code",
   "execution_count": 97,
   "metadata": {},
   "outputs": [],
   "source": [
    "XOM.index = pd.to_datetime(XOM.index)"
   ]
  },
  {
   "cell_type": "markdown",
   "metadata": {},
   "source": [
    "To test that the code works as intended, we print the first five observations."
   ]
  },
  {
   "cell_type": "code",
   "execution_count": 98,
   "metadata": {},
   "outputs": [
    {
     "data": {
      "text/html": [
       "<div>\n",
       "<style scoped>\n",
       "    .dataframe tbody tr th:only-of-type {\n",
       "        vertical-align: middle;\n",
       "    }\n",
       "\n",
       "    .dataframe tbody tr th {\n",
       "        vertical-align: top;\n",
       "    }\n",
       "\n",
       "    .dataframe thead th {\n",
       "        text-align: right;\n",
       "    }\n",
       "</style>\n",
       "<table border=\"1\" class=\"dataframe\">\n",
       "  <thead>\n",
       "    <tr style=\"text-align: right;\">\n",
       "      <th></th>\n",
       "      <th>close</th>\n",
       "      <th>volume</th>\n",
       "      <th>firm</th>\n",
       "      <th>close_demeaned</th>\n",
       "      <th>percentage_change, %</th>\n",
       "    </tr>\n",
       "    <tr>\n",
       "      <th>date</th>\n",
       "      <th></th>\n",
       "      <th></th>\n",
       "      <th></th>\n",
       "      <th></th>\n",
       "      <th></th>\n",
       "    </tr>\n",
       "  </thead>\n",
       "  <tbody>\n",
       "    <tr>\n",
       "      <th>2016-01-04</th>\n",
       "      <td>67.0563</td>\n",
       "      <td>20400084</td>\n",
       "      <td>Exxon Mobile</td>\n",
       "      <td>-8.873776</td>\n",
       "      <td>NaN</td>\n",
       "    </tr>\n",
       "    <tr>\n",
       "      <th>2016-01-05</th>\n",
       "      <td>67.6276</td>\n",
       "      <td>11993500</td>\n",
       "      <td>Exxon Mobile</td>\n",
       "      <td>-8.302476</td>\n",
       "      <td>0.851971</td>\n",
       "    </tr>\n",
       "    <tr>\n",
       "      <th>2016-01-06</th>\n",
       "      <td>67.0649</td>\n",
       "      <td>18826900</td>\n",
       "      <td>Exxon Mobile</td>\n",
       "      <td>-8.865176</td>\n",
       "      <td>-0.832057</td>\n",
       "    </tr>\n",
       "    <tr>\n",
       "      <th>2016-01-07</th>\n",
       "      <td>65.9915</td>\n",
       "      <td>21263761</td>\n",
       "      <td>Exxon Mobile</td>\n",
       "      <td>-9.938576</td>\n",
       "      <td>-1.600539</td>\n",
       "    </tr>\n",
       "    <tr>\n",
       "      <th>2016-01-08</th>\n",
       "      <td>64.6583</td>\n",
       "      <td>19033628</td>\n",
       "      <td>Exxon Mobile</td>\n",
       "      <td>-11.271776</td>\n",
       "      <td>-2.020260</td>\n",
       "    </tr>\n",
       "  </tbody>\n",
       "</table>\n",
       "</div>"
      ],
      "text/plain": [
       "              close    volume          firm  close_demeaned  \\\n",
       "date                                                          \n",
       "2016-01-04  67.0563  20400084  Exxon Mobile       -8.873776   \n",
       "2016-01-05  67.6276  11993500  Exxon Mobile       -8.302476   \n",
       "2016-01-06  67.0649  18826900  Exxon Mobile       -8.865176   \n",
       "2016-01-07  65.9915  21263761  Exxon Mobile       -9.938576   \n",
       "2016-01-08  64.6583  19033628  Exxon Mobile      -11.271776   \n",
       "\n",
       "            percentage_change, %  \n",
       "date                              \n",
       "2016-01-04                   NaN  \n",
       "2016-01-05              0.851971  \n",
       "2016-01-06             -0.832057  \n",
       "2016-01-07             -1.600539  \n",
       "2016-01-08             -2.020260  "
      ]
     },
     "execution_count": 98,
     "metadata": {},
     "output_type": "execute_result"
    }
   ],
   "source": [
    "XOM.head()"
   ]
  },
  {
   "cell_type": "markdown",
   "metadata": {},
   "source": [
    "### Chevron Corporation"
   ]
  },
  {
   "cell_type": "markdown",
   "metadata": {},
   "source": [
    "**First** we import the data."
   ]
  },
  {
   "cell_type": "code",
   "execution_count": 99,
   "metadata": {},
   "outputs": [],
   "source": [
    "CVX = pandas_datareader.iex.daily.IEXDailyReader('CVX', start, end).read()"
   ]
  },
  {
   "cell_type": "markdown",
   "metadata": {},
   "source": [
    "**Next** we drop the variables, we are not going to use."
   ]
  },
  {
   "cell_type": "code",
   "execution_count": 100,
   "metadata": {},
   "outputs": [],
   "source": [
    "del CVX['open']\n",
    "del CVX['high']\n",
    "del CVX['low']"
   ]
  },
  {
   "cell_type": "markdown",
   "metadata": {},
   "source": [
    "**Next** we add a new variable with the company name."
   ]
  },
  {
   "cell_type": "code",
   "execution_count": 101,
   "metadata": {},
   "outputs": [],
   "source": [
    "CVX['firm'] = 'Chevron'\n",
    "CVX['close_demeaned'] = CVX.groupby('firm')['close'].transform(lambda x: x - x.mean())\n",
    "CVX['percentage_change, %'] = ((CVX.close - CVX.close.shift(1)) / CVX.close.shift(1))*100"
   ]
  },
  {
   "cell_type": "markdown",
   "metadata": {},
   "source": [
    "**Lastly** we convert the date from index to dates using datetime."
   ]
  },
  {
   "cell_type": "code",
   "execution_count": 102,
   "metadata": {},
   "outputs": [],
   "source": [
    "CVX.index = pd.to_datetime(CVX.index)"
   ]
  },
  {
   "cell_type": "markdown",
   "metadata": {},
   "source": [
    "And to test that the code works as intended, we print the first five observations."
   ]
  },
  {
   "cell_type": "code",
   "execution_count": 103,
   "metadata": {},
   "outputs": [
    {
     "data": {
      "text/html": [
       "<div>\n",
       "<style scoped>\n",
       "    .dataframe tbody tr th:only-of-type {\n",
       "        vertical-align: middle;\n",
       "    }\n",
       "\n",
       "    .dataframe tbody tr th {\n",
       "        vertical-align: top;\n",
       "    }\n",
       "\n",
       "    .dataframe thead th {\n",
       "        text-align: right;\n",
       "    }\n",
       "</style>\n",
       "<table border=\"1\" class=\"dataframe\">\n",
       "  <thead>\n",
       "    <tr style=\"text-align: right;\">\n",
       "      <th></th>\n",
       "      <th>close</th>\n",
       "      <th>volume</th>\n",
       "      <th>firm</th>\n",
       "      <th>close_demeaned</th>\n",
       "      <th>percentage_change, %</th>\n",
       "    </tr>\n",
       "    <tr>\n",
       "      <th>date</th>\n",
       "      <th></th>\n",
       "      <th></th>\n",
       "      <th></th>\n",
       "      <th></th>\n",
       "      <th></th>\n",
       "    </tr>\n",
       "  </thead>\n",
       "  <tbody>\n",
       "    <tr>\n",
       "      <th>2016-01-04</th>\n",
       "      <td>77.2292</td>\n",
       "      <td>11397278</td>\n",
       "      <td>Chevron</td>\n",
       "      <td>-26.238045</td>\n",
       "      <td>NaN</td>\n",
       "    </tr>\n",
       "    <tr>\n",
       "      <th>2016-01-05</th>\n",
       "      <td>77.8898</td>\n",
       "      <td>7883427</td>\n",
       "      <td>Chevron</td>\n",
       "      <td>-25.577445</td>\n",
       "      <td>0.855376</td>\n",
       "    </tr>\n",
       "    <tr>\n",
       "      <th>2016-01-06</th>\n",
       "      <td>74.8128</td>\n",
       "      <td>14511395</td>\n",
       "      <td>Chevron</td>\n",
       "      <td>-28.654445</td>\n",
       "      <td>-3.950453</td>\n",
       "    </tr>\n",
       "    <tr>\n",
       "      <th>2016-01-07</th>\n",
       "      <td>72.1617</td>\n",
       "      <td>15368822</td>\n",
       "      <td>Chevron</td>\n",
       "      <td>-31.305545</td>\n",
       "      <td>-3.543645</td>\n",
       "    </tr>\n",
       "    <tr>\n",
       "      <th>2016-01-08</th>\n",
       "      <td>71.3881</td>\n",
       "      <td>11891638</td>\n",
       "      <td>Chevron</td>\n",
       "      <td>-32.079145</td>\n",
       "      <td>-1.072037</td>\n",
       "    </tr>\n",
       "  </tbody>\n",
       "</table>\n",
       "</div>"
      ],
      "text/plain": [
       "              close    volume     firm  close_demeaned  percentage_change, %\n",
       "date                                                                        \n",
       "2016-01-04  77.2292  11397278  Chevron      -26.238045                   NaN\n",
       "2016-01-05  77.8898   7883427  Chevron      -25.577445              0.855376\n",
       "2016-01-06  74.8128  14511395  Chevron      -28.654445             -3.950453\n",
       "2016-01-07  72.1617  15368822  Chevron      -31.305545             -3.543645\n",
       "2016-01-08  71.3881  11891638  Chevron      -32.079145             -1.072037"
      ]
     },
     "execution_count": 103,
     "metadata": {},
     "output_type": "execute_result"
    }
   ],
   "source": [
    "CVX.head()"
   ]
  },
  {
   "cell_type": "markdown",
   "metadata": {},
   "source": [
    "### Royal Dutch Shell (B Shares)"
   ]
  },
  {
   "cell_type": "markdown",
   "metadata": {},
   "source": [
    "**First** we import the data"
   ]
  },
  {
   "cell_type": "code",
   "execution_count": 104,
   "metadata": {},
   "outputs": [],
   "source": [
    "RDS = pandas_datareader.iex.daily.IEXDailyReader('RDS.B', start, end).read()"
   ]
  },
  {
   "cell_type": "markdown",
   "metadata": {},
   "source": [
    "**Next** we drop the variables, we are not going to use."
   ]
  },
  {
   "cell_type": "code",
   "execution_count": 105,
   "metadata": {},
   "outputs": [],
   "source": [
    "del RDS['open']\n",
    "del RDS['high']\n",
    "del RDS['low']"
   ]
  },
  {
   "cell_type": "markdown",
   "metadata": {},
   "source": [
    "**Next** we add a new variable with the company name."
   ]
  },
  {
   "cell_type": "code",
   "execution_count": 106,
   "metadata": {},
   "outputs": [],
   "source": [
    "RDS['firm'] = 'Shell'\n",
    "RDS['close_demeaned'] = RDS.groupby('firm')['close'].transform(lambda x: x - x.mean())\n",
    "RDS['percentage_change, %'] = ((RDS.close - RDS.close.shift(1)) / RDS.close.shift(1))*100"
   ]
  },
  {
   "cell_type": "markdown",
   "metadata": {},
   "source": [
    "**Lastly** we convert the date from index to dates using datetime"
   ]
  },
  {
   "cell_type": "code",
   "execution_count": 107,
   "metadata": {},
   "outputs": [],
   "source": [
    "RDS.index = pd.to_datetime(RDS.index)"
   ]
  },
  {
   "cell_type": "markdown",
   "metadata": {},
   "source": [
    "And to test that the code works as intended, we print the first five observations."
   ]
  },
  {
   "cell_type": "code",
   "execution_count": 108,
   "metadata": {},
   "outputs": [
    {
     "data": {
      "text/html": [
       "<div>\n",
       "<style scoped>\n",
       "    .dataframe tbody tr th:only-of-type {\n",
       "        vertical-align: middle;\n",
       "    }\n",
       "\n",
       "    .dataframe tbody tr th {\n",
       "        vertical-align: top;\n",
       "    }\n",
       "\n",
       "    .dataframe thead th {\n",
       "        text-align: right;\n",
       "    }\n",
       "</style>\n",
       "<table border=\"1\" class=\"dataframe\">\n",
       "  <thead>\n",
       "    <tr style=\"text-align: right;\">\n",
       "      <th></th>\n",
       "      <th>close</th>\n",
       "      <th>volume</th>\n",
       "      <th>firm</th>\n",
       "      <th>close_demeaned</th>\n",
       "      <th>percentage_change, %</th>\n",
       "    </tr>\n",
       "    <tr>\n",
       "      <th>date</th>\n",
       "      <th></th>\n",
       "      <th></th>\n",
       "      <th></th>\n",
       "      <th></th>\n",
       "      <th></th>\n",
       "    </tr>\n",
       "  </thead>\n",
       "  <tbody>\n",
       "    <tr>\n",
       "      <th>2016-01-04</th>\n",
       "      <td>38.2145</td>\n",
       "      <td>3602883</td>\n",
       "      <td>Shell</td>\n",
       "      <td>-17.043389</td>\n",
       "      <td>NaN</td>\n",
       "    </tr>\n",
       "    <tr>\n",
       "      <th>2016-01-05</th>\n",
       "      <td>37.8684</td>\n",
       "      <td>2445582</td>\n",
       "      <td>Shell</td>\n",
       "      <td>-17.389489</td>\n",
       "      <td>-0.905677</td>\n",
       "    </tr>\n",
       "    <tr>\n",
       "      <th>2016-01-06</th>\n",
       "      <td>36.4097</td>\n",
       "      <td>2052720</td>\n",
       "      <td>Shell</td>\n",
       "      <td>-18.848189</td>\n",
       "      <td>-3.852024</td>\n",
       "    </tr>\n",
       "    <tr>\n",
       "      <th>2016-01-07</th>\n",
       "      <td>34.6461</td>\n",
       "      <td>5699700</td>\n",
       "      <td>Shell</td>\n",
       "      <td>-20.611789</td>\n",
       "      <td>-4.843764</td>\n",
       "    </tr>\n",
       "    <tr>\n",
       "      <th>2016-01-08</th>\n",
       "      <td>32.7011</td>\n",
       "      <td>11210025</td>\n",
       "      <td>Shell</td>\n",
       "      <td>-22.556789</td>\n",
       "      <td>-5.613907</td>\n",
       "    </tr>\n",
       "  </tbody>\n",
       "</table>\n",
       "</div>"
      ],
      "text/plain": [
       "              close    volume   firm  close_demeaned  percentage_change, %\n",
       "date                                                                      \n",
       "2016-01-04  38.2145   3602883  Shell      -17.043389                   NaN\n",
       "2016-01-05  37.8684   2445582  Shell      -17.389489             -0.905677\n",
       "2016-01-06  36.4097   2052720  Shell      -18.848189             -3.852024\n",
       "2016-01-07  34.6461   5699700  Shell      -20.611789             -4.843764\n",
       "2016-01-08  32.7011  11210025  Shell      -22.556789             -5.613907"
      ]
     },
     "execution_count": 108,
     "metadata": {},
     "output_type": "execute_result"
    }
   ],
   "source": [
    "RDS.head()"
   ]
  },
  {
   "cell_type": "markdown",
   "metadata": {},
   "source": [
    "## **Combining the data sets**"
   ]
  },
  {
   "cell_type": "markdown",
   "metadata": {},
   "source": [
    "Now we combine the three data sets to get a proxy for the market. We will need this to show the average price over time, the overall volume each day and the average volume each day."
   ]
  },
  {
   "cell_type": "code",
   "execution_count": 109,
   "metadata": {},
   "outputs": [],
   "source": [
    "Market=pd.merge(pd.merge(XOM,CVX,on='date'),RDS,on='date')\n",
    "del Market['firm_x']\n",
    "del Market['firm_y']\n",
    "del Market['close_demeaned_x']\n",
    "del Market['close_demeaned_y']\n",
    "del Market['close_demeaned']\n",
    "del Market['percentage_change, %_x']\n",
    "del Market['percentage_change, %_y']\n",
    "del Market['percentage_change, %']\n",
    "Market.loc[Market.firm=='Shell', 'firm'] = 'Market'\n",
    "Market=Market.rename(columns={'close_x': 'close_XOM', 'volume_x': 'volume_XOM', 'close_y': 'close_CVX', 'volume_y': 'volume_CVX', 'close': 'close_RDS', 'volume': 'volume_RDS'})\n",
    "Market['Average_close'] = Market.apply(lambda row: (row.close_XOM + row.close_CVX + row.close_RDS)/3, axis=1)\n",
    "Market['Average_volume'] = Market.apply(lambda row: (row.volume_XOM + row.volume_CVX + row.volume_RDS)/3, axis=1)\n",
    "Market['Total_volume'] = Market.apply(lambda row: row.volume_XOM + row.volume_CVX + row.volume_RDS, axis=1)\n",
    "del Market['close_XOM']\n",
    "del Market['close_CVX']\n",
    "del Market['close_RDS']\n",
    "del Market['volume_XOM']\n",
    "del Market['volume_CVX']\n",
    "del Market['volume_RDS']\n",
    "Market['close_demeaned'] = Market.groupby('firm')['Average_close'].transform(lambda x: x - x.mean())\n",
    "Market['percentage_change, %'] = ((Market.Average_close - Market.Average_close.shift(1)) / Market.Average_close.shift(1))*100"
   ]
  },
  {
   "cell_type": "markdown",
   "metadata": {},
   "source": [
    "To test that the code works as intented we print the first five observations."
   ]
  },
  {
   "cell_type": "code",
   "execution_count": 110,
   "metadata": {},
   "outputs": [
    {
     "data": {
      "text/html": [
       "<div>\n",
       "<style scoped>\n",
       "    .dataframe tbody tr th:only-of-type {\n",
       "        vertical-align: middle;\n",
       "    }\n",
       "\n",
       "    .dataframe tbody tr th {\n",
       "        vertical-align: top;\n",
       "    }\n",
       "\n",
       "    .dataframe thead th {\n",
       "        text-align: right;\n",
       "    }\n",
       "</style>\n",
       "<table border=\"1\" class=\"dataframe\">\n",
       "  <thead>\n",
       "    <tr style=\"text-align: right;\">\n",
       "      <th></th>\n",
       "      <th>firm</th>\n",
       "      <th>Average_close</th>\n",
       "      <th>Average_volume</th>\n",
       "      <th>Total_volume</th>\n",
       "      <th>close_demeaned</th>\n",
       "      <th>percentage_change, %</th>\n",
       "    </tr>\n",
       "    <tr>\n",
       "      <th>date</th>\n",
       "      <th></th>\n",
       "      <th></th>\n",
       "      <th></th>\n",
       "      <th></th>\n",
       "      <th></th>\n",
       "      <th></th>\n",
       "    </tr>\n",
       "  </thead>\n",
       "  <tbody>\n",
       "    <tr>\n",
       "      <th>2016-01-04</th>\n",
       "      <td>Market</td>\n",
       "      <td>60.833333</td>\n",
       "      <td>1.180008e+07</td>\n",
       "      <td>35400245</td>\n",
       "      <td>-17.385070</td>\n",
       "      <td>NaN</td>\n",
       "    </tr>\n",
       "    <tr>\n",
       "      <th>2016-01-05</th>\n",
       "      <td>Market</td>\n",
       "      <td>61.128600</td>\n",
       "      <td>7.440836e+06</td>\n",
       "      <td>22322509</td>\n",
       "      <td>-17.089803</td>\n",
       "      <td>0.485370</td>\n",
       "    </tr>\n",
       "    <tr>\n",
       "      <th>2016-01-06</th>\n",
       "      <td>Market</td>\n",
       "      <td>59.429133</td>\n",
       "      <td>1.179700e+07</td>\n",
       "      <td>35391015</td>\n",
       "      <td>-18.789270</td>\n",
       "      <td>-2.780150</td>\n",
       "    </tr>\n",
       "    <tr>\n",
       "      <th>2016-01-07</th>\n",
       "      <td>Market</td>\n",
       "      <td>57.599767</td>\n",
       "      <td>1.411076e+07</td>\n",
       "      <td>42332283</td>\n",
       "      <td>-20.618637</td>\n",
       "      <td>-3.078232</td>\n",
       "    </tr>\n",
       "    <tr>\n",
       "      <th>2016-01-08</th>\n",
       "      <td>Market</td>\n",
       "      <td>56.249167</td>\n",
       "      <td>1.404510e+07</td>\n",
       "      <td>42135291</td>\n",
       "      <td>-21.969237</td>\n",
       "      <td>-2.344801</td>\n",
       "    </tr>\n",
       "  </tbody>\n",
       "</table>\n",
       "</div>"
      ],
      "text/plain": [
       "              firm  Average_close  Average_volume  Total_volume  \\\n",
       "date                                                              \n",
       "2016-01-04  Market      60.833333    1.180008e+07      35400245   \n",
       "2016-01-05  Market      61.128600    7.440836e+06      22322509   \n",
       "2016-01-06  Market      59.429133    1.179700e+07      35391015   \n",
       "2016-01-07  Market      57.599767    1.411076e+07      42332283   \n",
       "2016-01-08  Market      56.249167    1.404510e+07      42135291   \n",
       "\n",
       "            close_demeaned  percentage_change, %  \n",
       "date                                              \n",
       "2016-01-04      -17.385070                   NaN  \n",
       "2016-01-05      -17.089803              0.485370  \n",
       "2016-01-06      -18.789270             -2.780150  \n",
       "2016-01-07      -20.618637             -3.078232  \n",
       "2016-01-08      -21.969237             -2.344801  "
      ]
     },
     "execution_count": 110,
     "metadata": {},
     "output_type": "execute_result"
    }
   ],
   "source": [
    "Market.head()"
   ]
  },
  {
   "cell_type": "markdown",
   "metadata": {},
   "source": [
    "## **Importing the oil prices**"
   ]
  },
  {
   "cell_type": "markdown",
   "metadata": {},
   "source": [
    "We downloaded the oil prices from the FRED ( https://fred.stlouisfed.org/series/DCOILWTICO?fbclid=IwAR1d3Qi-6_BbMOIFeF6JZbPJpXhSgGYPno7NtQFQSWmaMgqrw7pxTnJmrpU )in the form of a csv-file, which is placed in the same folder as this workbook. We construct the data such that it matches the other datasets. "
   ]
  },
  {
   "cell_type": "code",
   "execution_count": 111,
   "metadata": {},
   "outputs": [],
   "source": [
    "Oil=pd.read_csv('.\\Oil_prices.csv')\n",
    "Oil=Oil.rename(columns={'DCOILWTICO': 'price', 'DATE': 'Date'})\n",
    "Oil.index = Oil['Date']\n",
    "del Oil['Date']\n",
    "Oil.price=Oil.convert_objects(convert_numeric=True)\n",
    "Oil['firm'] = 'Oil'\n",
    "Oil['price_demeaned'] = Oil.groupby('firm')['price'].transform(lambda x: x - x.mean())\n",
    "Oil['percentage_change, %'] = ((Oil.price - Oil.price.shift(1)) / Oil.price.shift(1))*100\n",
    "Oil.index = pd.to_datetime(Oil.index)"
   ]
  },
  {
   "cell_type": "markdown",
   "metadata": {},
   "source": [
    "To test that the code works as intended we print the first five observations."
   ]
  },
  {
   "cell_type": "code",
   "execution_count": 112,
   "metadata": {},
   "outputs": [
    {
     "data": {
      "text/html": [
       "<div>\n",
       "<style scoped>\n",
       "    .dataframe tbody tr th:only-of-type {\n",
       "        vertical-align: middle;\n",
       "    }\n",
       "\n",
       "    .dataframe tbody tr th {\n",
       "        vertical-align: top;\n",
       "    }\n",
       "\n",
       "    .dataframe thead th {\n",
       "        text-align: right;\n",
       "    }\n",
       "</style>\n",
       "<table border=\"1\" class=\"dataframe\">\n",
       "  <thead>\n",
       "    <tr style=\"text-align: right;\">\n",
       "      <th></th>\n",
       "      <th>price</th>\n",
       "      <th>firm</th>\n",
       "      <th>price_demeaned</th>\n",
       "      <th>percentage_change, %</th>\n",
       "    </tr>\n",
       "    <tr>\n",
       "      <th>Date</th>\n",
       "      <th></th>\n",
       "      <th></th>\n",
       "      <th></th>\n",
       "      <th></th>\n",
       "    </tr>\n",
       "  </thead>\n",
       "  <tbody>\n",
       "    <tr>\n",
       "      <th>2016-01-04</th>\n",
       "      <td>36.81</td>\n",
       "      <td>Oil</td>\n",
       "      <td>-16.332398</td>\n",
       "      <td>NaN</td>\n",
       "    </tr>\n",
       "    <tr>\n",
       "      <th>2016-01-05</th>\n",
       "      <td>35.97</td>\n",
       "      <td>Oil</td>\n",
       "      <td>-17.172398</td>\n",
       "      <td>-2.281989</td>\n",
       "    </tr>\n",
       "    <tr>\n",
       "      <th>2016-01-06</th>\n",
       "      <td>33.97</td>\n",
       "      <td>Oil</td>\n",
       "      <td>-19.172398</td>\n",
       "      <td>-5.560189</td>\n",
       "    </tr>\n",
       "    <tr>\n",
       "      <th>2016-01-07</th>\n",
       "      <td>33.29</td>\n",
       "      <td>Oil</td>\n",
       "      <td>-19.852398</td>\n",
       "      <td>-2.001766</td>\n",
       "    </tr>\n",
       "    <tr>\n",
       "      <th>2016-01-08</th>\n",
       "      <td>33.20</td>\n",
       "      <td>Oil</td>\n",
       "      <td>-19.942398</td>\n",
       "      <td>-0.270351</td>\n",
       "    </tr>\n",
       "  </tbody>\n",
       "</table>\n",
       "</div>"
      ],
      "text/plain": [
       "            price firm  price_demeaned  percentage_change, %\n",
       "Date                                                        \n",
       "2016-01-04  36.81  Oil      -16.332398                   NaN\n",
       "2016-01-05  35.97  Oil      -17.172398             -2.281989\n",
       "2016-01-06  33.97  Oil      -19.172398             -5.560189\n",
       "2016-01-07  33.29  Oil      -19.852398             -2.001766\n",
       "2016-01-08  33.20  Oil      -19.942398             -0.270351"
      ]
     },
     "execution_count": 112,
     "metadata": {},
     "output_type": "execute_result"
    }
   ],
   "source": [
    "Oil.head()"
   ]
  },
  {
   "cell_type": "markdown",
   "metadata": {},
   "source": [
    "## **Visualizations**"
   ]
  },
  {
   "cell_type": "markdown",
   "metadata": {},
   "source": [
    "In this section we create four figures. One for the closing price, one for the closing price demeaned, one for the percentage growth and one for the volume. The first three figures shows the devolopments for each of the three firms. We added a widget, which allows the reader to choose which firms to consider (The widget is by default set to look at all three firms at once). The last figure shows the volume, which has been divided into the five weekdays. "
   ]
  },
  {
   "cell_type": "markdown",
   "metadata": {},
   "source": [
    "### Closing price"
   ]
  },
  {
   "cell_type": "code",
   "execution_count": 121,
   "metadata": {},
   "outputs": [
    {
     "data": {
      "application/vnd.jupyter.widget-view+json": {
       "model_id": "d98169b0497e4e9fac0a110ebacd664e",
       "version_major": 2,
       "version_minor": 0
      },
      "text/plain": [
       "interactive(children=(Checkbox(value=True, description='Exxon'), Checkbox(value=True, description='Chevron'), …"
      ]
     },
     "metadata": {},
     "output_type": "display_data"
    }
   ],
   "source": [
    "def Fig1():\n",
    "    \n",
    "    def fig(temp1, temp2, temp3, temp4, temp5):\n",
    "        if temp1 == True:\n",
    "            XOM.groupby('firm')['close'].plot(legend=True, color='green')\n",
    "        if temp2 == True:\n",
    "            CVX.groupby('firm')['close'].plot(legend=True, color='blue')\n",
    "        if temp3 == True:\n",
    "            RDS.groupby('firm')['close'].plot(legend=True, color='orange')\n",
    "        if temp4 == True:\n",
    "            Market.groupby('firm')['Average_close'].plot(legend=True, color='red')\n",
    "        if temp5 == True:\n",
    "            Oil.groupby('firm')['price'].plot(legend=True, color='black') \n",
    "            \n",
    "        plt.xlabel('Date')\n",
    "        plt.ylabel('Dollars')\n",
    "        plt.title('Figure 1: Closing price')\n",
    "        plt.ylim([20,180])\n",
    "        plt.legend(loc='upper left') \n",
    "\n",
    "    widgets.interact(fig,\n",
    "           temp1=widgets.Checkbox(description='Exxon', value=True, disabled=False),\n",
    "           temp2=widgets.Checkbox(description='Chevron', value=True, disabled=False),\n",
    "           temp3=widgets.Checkbox(description='Royal Dutch Shell', value=True, disabled=False),\n",
    "           temp4=widgets.Checkbox(description='Average Market', value=True, disabled=False),       \n",
    "           temp5=widgets.Checkbox(description='Oil Market', value=True, disabled=False),       \n",
    "        );\n",
    "\n",
    "Fig1()"
   ]
  },
  {
   "cell_type": "markdown",
   "metadata": {},
   "source": [
    "We note that Chevron has the highest stockprice in the period. We also see that both Shell's and Chevron's stockprice have increased in the period, while Exxon's stockprice has been rather stable. All firms seems to follow the same trend, which is seen clearly illustrated during the **third** **(du skrev first)** quarter of 2018, where all the stockprices fell simultaneously (likely due to the financial crisis). \n",
    "They co-move to some extend, which - among other things - might be due to them operating in the same industri (Energy production). Some market shocks are relatated to specific industries, while other are more generel. This means that firms operating in same industries tend to covariate more than firms from different industries. Some individual shock occur as well, but all the big shocks seems to take effect across the firms."
   ]
  },
  {
   "cell_type": "markdown",
   "metadata": {},
   "source": [
    "### Closing price demeaned"
   ]
  },
  {
   "cell_type": "code",
   "execution_count": 122,
   "metadata": {},
   "outputs": [
    {
     "data": {
      "application/vnd.jupyter.widget-view+json": {
       "model_id": "2dcc6946571548329b60b9d39314ad72",
       "version_major": 2,
       "version_minor": 0
      },
      "text/plain": [
       "interactive(children=(Checkbox(value=True, description='Exxon'), Checkbox(value=True, description='Chevron'), …"
      ]
     },
     "metadata": {},
     "output_type": "display_data"
    }
   ],
   "source": [
    "def Fig2():\n",
    "    \n",
    "    def fig(temp1, temp2, temp3, temp4, temp5):\n",
    "        if temp1 == True:\n",
    "            XOM.groupby('firm')['close_demeaned'].plot(legend=True, color='green')\n",
    "        if temp2 == True:\n",
    "            CVX.groupby('firm')['close_demeaned'].plot(legend=True, color='blue')\n",
    "        if temp3 == True:\n",
    "            RDS.groupby('firm')['close_demeaned'].plot(legend=True, color='orange')\n",
    "        if temp4 == True:\n",
    "            Market.groupby('firm')['close_demeaned'].plot(legend=True, color='red')\n",
    "        if temp5 == True:\n",
    "            Oil.groupby('firm')['price_demeaned'].plot(legend=True, color='black')\n",
    "            \n",
    "        plt.xlabel('Date')\n",
    "        plt.ylabel('Dollars')\n",
    "        plt.title('Figure 2: Closing price demeaned')\n",
    "\n",
    "    widgets.interact(fig,\n",
    "           temp1=widgets.Checkbox(description='Exxon', value=True, disabled=False),\n",
    "           temp2=widgets.Checkbox(description='Chevron', value=True, disabled=False),\n",
    "           temp3=widgets.Checkbox(description='Royal Dutch Shell', value=True, disabled=False),\n",
    "           temp4=widgets.Checkbox(description='Average Market', value=True, disabled=False),\n",
    "           temp5=widgets.Checkbox(description='Oil Market', value=True, disabled=False),\n",
    "        );\n",
    "\n",
    "Fig2()"
   ]
  },
  {
   "cell_type": "markdown",
   "metadata": {},
   "source": [
    "Here we clearly see that both Chevron's and Shell's stockprice has risen since 2016 and almost at the same level, but since Chevron's stocksprice is higher than Shell's, it means that Shell's stockprice has risen relativly more in the period. Exxon's stockprice is almost at the same level as in 2016, and it only fluctuates around its average. This result is in accordance with the previous plot, showing that Exxon's stock prices hasn't changed much on average during the period."
   ]
  },
  {
   "cell_type": "markdown",
   "metadata": {},
   "source": [
    "### Percentage change in the closing price"
   ]
  },
  {
   "cell_type": "code",
   "execution_count": 123,
   "metadata": {},
   "outputs": [
    {
     "data": {
      "application/vnd.jupyter.widget-view+json": {
       "model_id": "eed89a334b9445f0bdc0edf55dec6046",
       "version_major": 2,
       "version_minor": 0
      },
      "text/plain": [
       "interactive(children=(Checkbox(value=True, description='Exxon'), Checkbox(value=False, description='Chevron'),…"
      ]
     },
     "metadata": {},
     "output_type": "display_data"
    }
   ],
   "source": [
    "XOM_C=XOM.copy()\n",
    "XOM_C=XOM.dropna(subset=['percentage_change, %'])\n",
    "CVX_C=CVX.copy()\n",
    "CVX_C=CVX.dropna(subset=['percentage_change, %'])\n",
    "RDS_C=RDS.copy()\n",
    "RDS_C=RDS.dropna(subset=['percentage_change, %'])\n",
    "Market_C=Market.copy()\n",
    "Market_C=Market.dropna(subset=['percentage_change, %'])\n",
    "Oil_C=Oil.copy()\n",
    "Oil_C=Oil.dropna(subset=['percentage_change, %'])\n",
    "\n",
    "def Fig3():\n",
    "    \n",
    "    def fig(temp1, temp2, temp3, temp4, temp5):\n",
    "        if temp1 == True:\n",
    "            XOM_C.groupby('firm')['percentage_change, %'].plot(legend=True, color='green', alpha=0.4) # alpha is the density of the color.\n",
    "        if temp2 == True:\n",
    "            CVX_C.groupby('firm')['percentage_change, %'].plot(legend=True, color='blue', alpha=0.4)\n",
    "        if temp3 == True:\n",
    "            RDS_C.groupby('firm')['percentage_change, %'].plot(legend=True, color='orange', alpha=0.4)\n",
    "        if temp4 == True:\n",
    "            Market_C.groupby('firm')['percentage_change, %'].plot(legend=True, color='red', alpha=0.4)\n",
    "        if temp5 == True:\n",
    "            Oil_C.groupby('firm')['percentage_change, %'].plot(legend=True, color='black', alpha=0.4)\n",
    "        \n",
    "        \n",
    "        plt.xlabel('Date');\n",
    "        plt.ylabel('Percent');\n",
    "        plt.title('Figure 3: Percentage change in closing price');\n",
    "\n",
    "    widgets.interact(fig,\n",
    "           temp1=widgets.Checkbox(description='Exxon', value=True, disabled=False),\n",
    "           temp2=widgets.Checkbox(description='Chevron', value=False, disabled=False),\n",
    "           temp3=widgets.Checkbox(description='Royal Dutch Shell', value=False, disabled=False),\n",
    "           temp4=widgets.Checkbox(description='Market', value=False, disabled=False),\n",
    "           temp5=widgets.Checkbox(description='Oil Market', value=False, disabled=False),\n",
    "\n",
    "        );\n",
    "\n",
    "Fig3()"
   ]
  },
  {
   "cell_type": "markdown",
   "metadata": {},
   "source": [
    "Looking at the percentage change we see that they all comove to some extent. It seems that the olie price is the most volatile however. We also see that the percentage change in the stock price for both Shell and Chevron lies slightly above 0, which is consistent with Figure 1 and 2. In this figure we see the outliers more clearly, and espicially the decrease in Shell's stockprice in medio 2016. "
   ]
  },
  {
   "cell_type": "markdown",
   "metadata": {},
   "source": [
    "### 3D plot of the volume and closing price"
   ]
  },
  {
   "cell_type": "code",
   "execution_count": 124,
   "metadata": {},
   "outputs": [
    {
     "data": {
      "application/vnd.jupyter.widget-view+json": {
       "model_id": "d90f042a3aa54f349ab4d8e1492ec433",
       "version_major": 2,
       "version_minor": 0
      },
      "text/plain": [
       "interactive(children=(Dropdown(description='Firm:', options=('Exxon Mobile', 'Chevron', 'Shell', 'Average mark…"
      ]
     },
     "metadata": {},
     "output_type": "display_data"
    }
   ],
   "source": [
    "XOM_close_demeaned = np.linspace(XOM['close_demeaned'].min(), XOM['close_demeaned'].max(), len(XOM['close_demeaned'].unique()))\n",
    "XOM_volume = np.linspace(XOM['volume'].min()/1000000, XOM['volume'].max()/1000000, len(XOM['volume'].unique()/1000000))\n",
    "XOM_close_demeaned2, XOM_volume2 = np.meshgrid(XOM_close_demeaned, XOM_volume)\n",
    "XOM_close2 = griddata((XOM['close_demeaned'], XOM['volume']/1000000), XOM['close'], (XOM_close_demeaned2, XOM_volume2), method='cubic')\n",
    "\n",
    "CVX_close_demeaned = np.linspace(CVX['close_demeaned'].min(), CVX['close_demeaned'].max(), len(CVX['close_demeaned'].unique()))\n",
    "CVX_volume = np.linspace(CVX['volume'].min()/1000000, CVX['volume'].max()/1000000, len(CVX['volume'].unique()/1000000))\n",
    "CVX_close_demeaned2, CVX_volume2 = np.meshgrid(CVX_close_demeaned, CVX_volume)\n",
    "CVX_close2 = griddata((CVX['close_demeaned'], CVX['volume']/1000000), CVX['close'], (CVX_close_demeaned2, CVX_volume2), method='cubic')\n",
    "\n",
    "RDS_close_demeaned = np.linspace(RDS['close_demeaned'].min(), RDS['close_demeaned'].max(), len(RDS['close_demeaned'].unique()))\n",
    "RDS_volume = np.linspace(RDS['volume'].min()/1000000, RDS['volume'].max()/1000000, len(RDS['volume'].unique()/1000000))\n",
    "RDS_close_demeaned2, RDS_volume2 = np.meshgrid(RDS_close_demeaned, RDS_volume)\n",
    "RDS_close2 = griddata((RDS['close_demeaned'], RDS['volume']/1000000), RDS['close'], (RDS_close_demeaned2, RDS_volume2), method='cubic')\n",
    "\n",
    "Market_close_demeaned = np.linspace(Market['close_demeaned'].min(), Market['close_demeaned'].max(), len(Market['close_demeaned'].unique()))\n",
    "Market_volume = np.linspace(Market['Average_volume'].min()/1000000, Market['Average_volume'].max()/1000000, len(Market['Average_volume'].unique()/1000000))\n",
    "Market_close_demeaned2, Market_volume2 = np.meshgrid(Market_close_demeaned, Market_volume)\n",
    "Market_close2 = griddata((Market['close_demeaned'], Market['Average_volume']/1000000), Market['Average_close'], (Market_close_demeaned2, Market_volume2), method='cubic')\n",
    "\n",
    "def Fig4():\n",
    "    \n",
    "    def fig(temp1):\n",
    "        fig = plt.figure(figsize=(8,5))\n",
    "        ax = fig.add_subplot(111, projection='3d')\n",
    "        if temp1 == 'Exxon Mobile':\n",
    "            ax.plot_surface(XOM_close_demeaned2, XOM_volume2, XOM_close2, color='green')\n",
    "        if temp1 == 'Chevron':\n",
    "            ax.plot_surface(CVX_close_demeaned2, CVX_volume2, CVX_close2, color='blue')\n",
    "        if temp1 == 'Shell':\n",
    "            ax.plot_surface(RDS_close_demeaned2, RDS_volume2, RDS_close2, color='orange')\n",
    "        if temp1 == 'Average market':\n",
    "            ax.plot_surface(Market_close_demeaned2, Market_volume2, Market_close2, color='red')\n",
    "            \n",
    "        ax.set_xlabel('Closing price demeaned');\n",
    "        ax.set_ylabel('Volume (mio)');\n",
    "        ax.set_zlabel('Closing price')\n",
    "        ax.set_title('Figure 4: 3D plot, showing volume and closing price');\n",
    "        ax.invert_xaxis()\n",
    "        \n",
    "    widgets.interact(fig,\n",
    "           temp1=widgets.Dropdown(options=['Exxon Mobile', 'Chevron', 'Shell', 'Average market'],    value='Exxon Mobile', description='Firm:',\n",
    "    disabled=False,));\n",
    "\n",
    "Fig4()"
   ]
  },
  {
   "cell_type": "markdown",
   "metadata": {},
   "source": [
    "This plot shows what happens to the price, when the volume changes. As we can se on the different plot, the highest price is reached, when the volume is relativly low. We also see that when the volume rises the closing price converges towards the average, which is seen by the closing price demeaned converging towards 0."
   ]
  },
  {
   "cell_type": "markdown",
   "metadata": {},
   "source": [
    "### Volume grouped by weekdays using our market variable."
   ]
  },
  {
   "cell_type": "code",
   "execution_count": 125,
   "metadata": {},
   "outputs": [
    {
     "data": {
      "image/png": "[encoded data removed]",
      "text/plain": [
       "<Figure size 432x288 with 1 Axes>"
      ]
     },
     "metadata": {
      "needs_background": "light"
     },
     "output_type": "display_data"
    }
   ],
   "source": [
    "Market_C1=Market.copy()\n",
    "Market_C1['Weekday'] = Market_C1.index.weekday\n",
    "ax1 = Market_C1.groupby('Weekday')['Average_volume'].mean().plot(kind='bar', color='purple') \n",
    "ax1.set_ylabel('Average number of traded stocks')\n",
    "ax1.set_title('Figure 5: Average number of traded stocks divided by weekdays')\n",
    "ax1.set_xlabel('')\n",
    "plt.xticks(np.arange(5),('Monday','Tuesday','Wednesday','Thursday','Friday'), rotation='horizontal')\n",
    "for txt in ax1.texts:\n",
    "    txt.set_visible(False)"
   ]
  },
  {
   "cell_type": "markdown",
   "metadata": {},
   "source": [
    "Here we see that the average number of traded stocks is rising through the week, which means that the number of traded stocks monday is less than the traded stocks friday. We also see that the average number of traded stocks on a weekday is approximately 7 billion. The general growth in stock prices during the week cannot be explained by time alone, as it's represented by the averege trading on the weekday on a nearly three years long sample. **Maybe more?**"
   ]
  },
  {
   "cell_type": "markdown",
   "metadata": {},
   "source": [
    "### Volume shares of the three firms at a given date"
   ]
  },
  {
   "cell_type": "code",
   "execution_count": 126,
   "metadata": {},
   "outputs": [
    {
     "data": {
      "application/vnd.jupyter.widget-view+json": {
       "model_id": "c6203aee83fc45db85df6ebef74919eb",
       "version_major": 2,
       "version_minor": 0
      },
      "text/plain": [
       "interactive(children=(Dropdown(description='Date:', options=(Timestamp('2016-01-04 00:00:00'), Timestamp('2016…"
      ]
     },
     "metadata": {},
     "output_type": "display_data"
    }
   ],
   "source": [
    "# Data to plot\n",
    "def Fig6():\n",
    "        def figure_6(set_date):\n",
    "            labels = 'Exxon Mobile','Chevron','Shell'\n",
    "            sizes = [XOM.loc[set_date].volume, CVX.loc[set_date].volume, RDS.loc[set_date].volume]\n",
    "            colors = ['green', 'blue', 'orange']\n",
    "            explode = (0, 0.1, 0)  # seperates Chevron's slice\n",
    "\n",
    "            # Plot\n",
    "            plt.pie(sizes, explode=explode, labels=labels, colors=colors,\n",
    "            autopct='%1.1f%%', shadow=True, startangle=140)\n",
    "            plt.title('Figure 6: Volume');\n",
    "            plt.axis('equal')\n",
    "        widgets.interact(figure_6, set_date=widgets.Dropdown(options=XOM.index, value=XOM.index[0],description='Date:', disabled=False,),);\n",
    "Fig6()"
   ]
  },
  {
   "cell_type": "markdown",
   "metadata": {},
   "source": [
    "We see that for every observation Exxon has the highest volume, while Chevron has the second highest and Shell has the lowest. This isn't very surprising as we only conider a period of roughly three years. If a firm has a general high trading volume, which isn't caused by shocks, and is of a relative large size one would expect the firm to have that high trading volume in the following observations as well. It is however interesting to see that Exxon is the most traded stock and represents more than half the market of the three firms in some intervals and some days accord for more than 70 % of the trading volume of these firms. This is interesting as Exxon seems to be the stock with least development acconding to our earlier figures."
   ]
  },
  {
   "cell_type": "markdown",
   "metadata": {},
   "source": [
    "## **Descriptive statistics**"
   ]
  },
  {
   "cell_type": "markdown",
   "metadata": {},
   "source": [
    "First we define all of the statistical variables that we are going to use to describe our dataset."
   ]
  },
  {
   "cell_type": "code",
   "execution_count": 127,
   "metadata": {},
   "outputs": [],
   "source": [
    "# Market\n",
    "\n",
    "# First we find the observations\n",
    "Observations=round(Market['Average_close'].count(),0)\n",
    "\n",
    "# Next we find the average (Here we notice that since we got percentage change, we need to use a formula to calculate the average percentage change)\n",
    "Avg_closing_price=round(Market['Average_close'].mean(),2)\n",
    "Avg_volume=round(Market['Total_volume'].mean(),2)\n",
    "Avg_closing_demeaned=round(Market['close_demeaned'].mean(),2)\n",
    "Avg_percentage_change=round(((Market.Average_close[-1]/Market.Average_close[0])**(1/Observations)-1)*100,2)\n",
    "\n",
    "# Next we calculate the standard diviation\n",
    "Std_closing_price=round(Market['Average_close'].std(),2)\n",
    "Std_volume=round(Market['Total_volume'].std(),2)\n",
    "Std_close_demeaned=round(Market['close_demeaned'].std(),2)\n",
    "\n",
    "# Next we find the minimum value and which day this occured\n",
    "Min_closing_price=round(Market['Average_close'].min(),2)\n",
    "Min_volume=round(Market['Total_volume'].min(),2)\n",
    "Min_close_demeaned=round(Market['close_demeaned'].min(),2)\n",
    "\n",
    "# Next we find the maximum value and which day this occured\n",
    "Max_closing_price=round(Market['Average_close'].max(),2)\n",
    "Max_volume=round(Market['Total_volume'].max(),2)\n",
    "Max_close_demeaned=round(Market['close_demeaned'].max(),2)\n",
    "\n",
    "# And lastly we find the median, which we do by first finding the middle observation\n",
    "Market_median_obs=(Observations)//2\n",
    "Median_closing_price=round(Market.Average_close[Market_median_obs],2)\n",
    "Median_volume=round(Market.Total_volume[Market_median_obs],2)\n",
    "Median_closing_demeaned=round(Market.close_demeaned[Market_median_obs],2)"
   ]
  },
  {
   "cell_type": "code",
   "execution_count": 128,
   "metadata": {},
   "outputs": [],
   "source": [
    "# Oil Market\n",
    "\n",
    "# First we find the observations\n",
    "Oil_Observations=round(Oil['price'].count(),0)\n",
    "\n",
    "# Next we find the average (Here we notice that since we got percentage change, we need to use a formula to calculate the average percentage change)\n",
    "Avg_price=round(Oil['price'].mean(),2)\n",
    "Avg_price_demeaned=round(Oil['price_demeaned'].mean(),2)\n",
    "Avg_percentage_change=round(((Oil.price[-1]/Oil.price[0])**(1/Oil_Observations)-1)*100,2)\n",
    "\n",
    "# Next we calculate the standard diviation\n",
    "Std_price=round(Oil['price'].std(),2)\n",
    "Std_price_demeaned=round(Oil['price_demeaned'].std(),2)\n",
    "\n",
    "# Next we find the minimum value and which day this occured\n",
    "Min_price=round(Oil['price'].min(),2)\n",
    "Min_price_demeaned=round(Oil['price_demeaned'].min(),2)\n",
    "\n",
    "# Next we find the maximum value and which day this occured\n",
    "Max_price=round(Oil['price'].max(),2)\n",
    "Max_price_demeaned=round(Oil['price_demeaned'].max(),2)\n",
    "\n",
    "# And lastly we find the median, which we do by first finding the middle observation\n",
    "Oil_median_obs=(Oil_Observations)//2\n",
    "Median_price=round(Oil.price[Oil_median_obs],2)\n",
    "Median_price_demeaned=round(Oil.price_demeaned[Oil_median_obs],2)"
   ]
  },
  {
   "cell_type": "code",
   "execution_count": 129,
   "metadata": {},
   "outputs": [],
   "source": [
    "# Exxon Mobile\n",
    "\n",
    "# First we find the observations\n",
    "Observations_XOM=round(XOM['close'].count(),0)\n",
    "\n",
    "# Next we find the average (Here we notice that since we got percentage change, we need to use a formula to calculate the average percentage change)\n",
    "Avg_closing_price_XOM=round(XOM['close'].mean(),2)\n",
    "Avg_volume_XOM=round(XOM['volume'].mean(),2)\n",
    "Avg_closing_demeaned_XOM=round(XOM['close_demeaned'].mean(),2)\n",
    "Avg_percentage_change_XOM=round(((XOM.close[-1]/XOM.close[0])**(1/Observations_XOM)-1)*100,2)\n",
    "\n",
    "# Next we calculate the standard diviation\n",
    "Std_closing_price_XOM=round(XOM['close'].std(),2)\n",
    "Std_volume_XOM=round(XOM['volume'].std(),2)\n",
    "Std_close_demeaned_XOM=round(XOM['close_demeaned'].std(),2)\n",
    "\n",
    "# Next we find the minimum value and which day this occured\n",
    "Min_closing_price_XOM=round(XOM['close'].min(),2)\n",
    "Min_volume_XOM=round(XOM['volume'].min(),2)\n",
    "Min_close_demeaned_XOM=round(XOM['close_demeaned'].min(),2)\n",
    "\n",
    "# Next we find the maximum value and which day this occured\n",
    "Max_closing_price_XOM=round(XOM['close'].max(),2)\n",
    "Max_volume_XOM=round(XOM['volume'].max(),2)\n",
    "Max_close_demeaned_XOM=round(XOM['close_demeaned'].max(),2)\n",
    "\n",
    "# And lastly we find the median, which we do by first finding the middle observation\n",
    "XOM_median_obs=(Observations_XOM)//2\n",
    "Median_closing_price_XOM=round(XOM.close[XOM_median_obs],2)\n",
    "Median_volume_XOM=round(XOM.volume[XOM_median_obs],2)\n",
    "Median_closing_demeaned_XOM=round(XOM.close_demeaned[XOM_median_obs],2)"
   ]
  },
  {
   "cell_type": "code",
   "execution_count": 130,
   "metadata": {},
   "outputs": [],
   "source": [
    "# Chevron\n",
    "\n",
    "# First we find the observations\n",
    "Observations_CVX=round(CVX['close'].count(),0)\n",
    "\n",
    "# Next we find the average (Here we notice that since we got percentage change, we need to use a formula to calculate the average percentage change)\n",
    "Avg_closing_price_CVX=round(CVX['close'].mean(),2)\n",
    "Avg_volume_CVX=round(CVX['volume'].mean(),2)\n",
    "Avg_closing_demeaned_CVX=round(CVX['close_demeaned'].mean(),2)\n",
    "Avg_percentage_change_CVX=round(((CVX.close[-1]/CVX.close[0])**(1/Observations_CVX)-1)*100,2)\n",
    "\n",
    "# Next we calculate the standard diviation\n",
    "Std_closing_price_CVX=round(CVX['close'].std(),2)\n",
    "Std_volume_CVX=round(CVX['volume'].std(),2)\n",
    "Std_close_demeaned_CVX=round(CVX['close_demeaned'].std(),2)\n",
    "\n",
    "# Next we find the minimum value and which day this occured\n",
    "Min_closing_price_CVX=round(CVX['close'].min(),2)\n",
    "Min_volume_CVX=round(CVX['volume'].min(),2)\n",
    "Min_close_demeaned_CVX=round(CVX['close_demeaned'].min(),2)\n",
    "\n",
    "# Next we find the maximum value and which day this occured\n",
    "Max_closing_price_CVX=round(CVX['close'].max(),2)\n",
    "Max_volume_CVX=round(CVX['volume'].max(),2)\n",
    "Max_close_demeaned_CVX=round(CVX['close_demeaned'].max(),2)\n",
    "\n",
    "# And lastly we find the median, which we do by first finding the middle observation\n",
    "CVX_median_obs=(Observations_CVX)//2\n",
    "Median_closing_price_CVX=round(CVX.close[CVX_median_obs],2)\n",
    "Median_volume_CVX=round(CVX.volume[CVX_median_obs],2)\n",
    "Median_closing_demeaned_CVX=round(CVX.close_demeaned[CVX_median_obs],2)"
   ]
  },
  {
   "cell_type": "code",
   "execution_count": 131,
   "metadata": {},
   "outputs": [],
   "source": [
    "# Shell\n",
    "\n",
    "# First we find the observations\n",
    "Observations_RDS=round(RDS['close'].count(),0)\n",
    "\n",
    "# Next we find the average (Here we notice that since we got percentage change, we need to use a formula to calculate the average percentage change)\n",
    "Avg_closing_price_RDS=round(RDS['close'].mean(),2)\n",
    "Avg_volume_RDS=round(RDS['volume'].mean(),2)\n",
    "Avg_closing_demeaned_RDS=round(RDS['close_demeaned'].mean(),2)\n",
    "Avg_percentage_change_RDS=round(((RDS.close[-1]/RDS.close[0])**(1/Observations_RDS)-1)*100,2)\n",
    "\n",
    "# Next we calculate the standard diviation\n",
    "Std_closing_price_RDS=round(RDS['close'].std(),2)\n",
    "Std_volume_RDS=round(RDS['volume'].std(),2)\n",
    "Std_close_demeaned_RDS=round(RDS['close_demeaned'].std(),2)\n",
    "\n",
    "# Next we find the minimum value and which day this occured\n",
    "Min_closing_price_RDS=round(RDS['close'].min(),2)\n",
    "Min_volume_RDS=round(RDS['volume'].min(),2)\n",
    "Min_close_demeaned_RDS=round(RDS['close_demeaned'].min(),2)\n",
    "\n",
    "# Next we find the maximum value and which day this occured\n",
    "Max_closing_price_RDS=round(RDS['close'].max(),2)\n",
    "Max_volume_RDS=round(RDS['volume'].max(),2)\n",
    "Max_close_demeaned_RDS=round(RDS['close_demeaned'].max(),2)\n",
    "\n",
    "# And lastly we find the median, which we do by first finding the middle observation\n",
    "RDS_median_obs=(Observations_RDS)//2\n",
    "Median_closing_price_RDS=round(RDS.close[RDS_median_obs],2)\n",
    "Median_volume_RDS=round(RDS.volume[RDS_median_obs],2)\n",
    "Median_closing_demeaned_RDS=round(RDS.close_demeaned[RDS_median_obs],2)"
   ]
  },
  {
   "cell_type": "markdown",
   "metadata": {},
   "source": [
    "And then we combine all the variables in one table"
   ]
  },
  {
   "cell_type": "code",
   "execution_count": 132,
   "metadata": {},
   "outputs": [
    {
     "data": {
      "text/html": [
       "<div>\n",
       "<style scoped>\n",
       "    .dataframe tbody tr th:only-of-type {\n",
       "        vertical-align: middle;\n",
       "    }\n",
       "\n",
       "    .dataframe tbody tr th {\n",
       "        vertical-align: top;\n",
       "    }\n",
       "\n",
       "    .dataframe thead th {\n",
       "        text-align: right;\n",
       "    }\n",
       "</style>\n",
       "<table border=\"1\" class=\"dataframe\">\n",
       "  <thead>\n",
       "    <tr style=\"text-align: right;\">\n",
       "      <th></th>\n",
       "      <th>Market</th>\n",
       "      <th>Oil Market</th>\n",
       "      <th>Exxon Mobile</th>\n",
       "      <th>Chevron</th>\n",
       "      <th>Shell</th>\n",
       "    </tr>\n",
       "  </thead>\n",
       "  <tbody>\n",
       "    <tr>\n",
       "      <th>Observations</th>\n",
       "      <td>808</td>\n",
       "      <td>805</td>\n",
       "      <td>808</td>\n",
       "      <td>808</td>\n",
       "      <td>808</td>\n",
       "    </tr>\n",
       "    <tr>\n",
       "      <th></th>\n",
       "      <td></td>\n",
       "      <td></td>\n",
       "      <td></td>\n",
       "      <td></td>\n",
       "      <td></td>\n",
       "    </tr>\n",
       "    <tr>\n",
       "      <th>Closing price</th>\n",
       "      <td></td>\n",
       "      <td></td>\n",
       "      <td></td>\n",
       "      <td></td>\n",
       "      <td></td>\n",
       "    </tr>\n",
       "    <tr>\n",
       "      <th>Average</th>\n",
       "      <td>78.22</td>\n",
       "      <td>53.14</td>\n",
       "      <td>75.93</td>\n",
       "      <td>103.47</td>\n",
       "      <td>55.26</td>\n",
       "    </tr>\n",
       "    <tr>\n",
       "      <th>Standard deviation</th>\n",
       "      <td>8.15</td>\n",
       "      <td>10.5</td>\n",
       "      <td>3.72</td>\n",
       "      <td>13.01</td>\n",
       "      <td>9.99</td>\n",
       "    </tr>\n",
       "    <tr>\n",
       "      <th>Minimum</th>\n",
       "      <td>54.15</td>\n",
       "      <td>26.19</td>\n",
       "      <td>63.35</td>\n",
       "      <td>68.65</td>\n",
       "      <td>30.46</td>\n",
       "    </tr>\n",
       "    <tr>\n",
       "      <th>Maximum</th>\n",
       "      <td>92.59</td>\n",
       "      <td>77.41</td>\n",
       "      <td>83.83</td>\n",
       "      <td>126.12</td>\n",
       "      <td>74.53</td>\n",
       "    </tr>\n",
       "    <tr>\n",
       "      <th>Median</th>\n",
       "      <td>76.4</td>\n",
       "      <td>47.1</td>\n",
       "      <td>73.47</td>\n",
       "      <td>101.95</td>\n",
       "      <td>53.77</td>\n",
       "    </tr>\n",
       "    <tr>\n",
       "      <th></th>\n",
       "      <td></td>\n",
       "      <td></td>\n",
       "      <td></td>\n",
       "      <td></td>\n",
       "      <td></td>\n",
       "    </tr>\n",
       "    <tr>\n",
       "      <th>Closing price demeaned</th>\n",
       "      <td></td>\n",
       "      <td></td>\n",
       "      <td></td>\n",
       "      <td></td>\n",
       "      <td></td>\n",
       "    </tr>\n",
       "    <tr>\n",
       "      <th>Average</th>\n",
       "      <td>-0</td>\n",
       "      <td>-0</td>\n",
       "      <td>0</td>\n",
       "      <td>0</td>\n",
       "      <td>-0</td>\n",
       "    </tr>\n",
       "    <tr>\n",
       "      <th>Standard deviation</th>\n",
       "      <td>8.15</td>\n",
       "      <td>10.5</td>\n",
       "      <td>3.72</td>\n",
       "      <td>13.01</td>\n",
       "      <td>9.99</td>\n",
       "    </tr>\n",
       "    <tr>\n",
       "      <th>Minimum</th>\n",
       "      <td>-24.06</td>\n",
       "      <td>-26.95</td>\n",
       "      <td>-12.58</td>\n",
       "      <td>-34.82</td>\n",
       "      <td>-24.8</td>\n",
       "    </tr>\n",
       "    <tr>\n",
       "      <th>Maximum</th>\n",
       "      <td>14.38</td>\n",
       "      <td>24.27</td>\n",
       "      <td>7.9</td>\n",
       "      <td>22.65</td>\n",
       "      <td>19.28</td>\n",
       "    </tr>\n",
       "    <tr>\n",
       "      <th>Median</th>\n",
       "      <td>-1.82</td>\n",
       "      <td>-6.04</td>\n",
       "      <td>-2.46</td>\n",
       "      <td>-1.51</td>\n",
       "      <td>-1.49</td>\n",
       "    </tr>\n",
       "    <tr>\n",
       "      <th></th>\n",
       "      <td></td>\n",
       "      <td></td>\n",
       "      <td></td>\n",
       "      <td></td>\n",
       "      <td></td>\n",
       "    </tr>\n",
       "    <tr>\n",
       "      <th>Percentage change in closing price</th>\n",
       "      <td></td>\n",
       "      <td></td>\n",
       "      <td></td>\n",
       "      <td></td>\n",
       "      <td></td>\n",
       "    </tr>\n",
       "    <tr>\n",
       "      <th>Average</th>\n",
       "      <td>0.06</td>\n",
       "      <td>0.06</td>\n",
       "      <td>0.02</td>\n",
       "      <td>0.06</td>\n",
       "      <td>0.07</td>\n",
       "    </tr>\n",
       "    <tr>\n",
       "      <th></th>\n",
       "      <td></td>\n",
       "      <td></td>\n",
       "      <td></td>\n",
       "      <td></td>\n",
       "      <td></td>\n",
       "    </tr>\n",
       "    <tr>\n",
       "      <th>Volume</th>\n",
       "      <td></td>\n",
       "      <td></td>\n",
       "      <td></td>\n",
       "      <td></td>\n",
       "      <td></td>\n",
       "    </tr>\n",
       "    <tr>\n",
       "      <th>Average</th>\n",
       "      <td>2.12546e+07</td>\n",
       "      <td></td>\n",
       "      <td>1.23974e+07</td>\n",
       "      <td>6.74177e+06</td>\n",
       "      <td>2.11541e+06</td>\n",
       "    </tr>\n",
       "    <tr>\n",
       "      <th>Standard deviation</th>\n",
       "      <td>7.74453e+06</td>\n",
       "      <td></td>\n",
       "      <td>4.93813e+06</td>\n",
       "      <td>2.71579e+06</td>\n",
       "      <td>1.30203e+06</td>\n",
       "    </tr>\n",
       "    <tr>\n",
       "      <th>Minimum</th>\n",
       "      <td>6032108</td>\n",
       "      <td></td>\n",
       "      <td>3851283</td>\n",
       "      <td>1744165</td>\n",
       "      <td>436660</td>\n",
       "    </tr>\n",
       "    <tr>\n",
       "      <th>Maximum</th>\n",
       "      <td>70650237</td>\n",
       "      <td></td>\n",
       "      <td>47287319</td>\n",
       "      <td>26151133</td>\n",
       "      <td>15668717</td>\n",
       "    </tr>\n",
       "    <tr>\n",
       "      <th>Median</th>\n",
       "      <td>18698600</td>\n",
       "      <td></td>\n",
       "      <td>12580300</td>\n",
       "      <td>4950662</td>\n",
       "      <td>1167638</td>\n",
       "    </tr>\n",
       "  </tbody>\n",
       "</table>\n",
       "</div>"
      ],
      "text/plain": [
       "                                         Market Oil Market Exxon Mobile  \\\n",
       "Observations                                808        805          808   \n",
       "                                                                          \n",
       "Closing price                                                             \n",
       "Average                                   78.22      53.14        75.93   \n",
       "Standard deviation                         8.15       10.5         3.72   \n",
       "Minimum                                   54.15      26.19        63.35   \n",
       "Maximum                                   92.59      77.41        83.83   \n",
       "Median                                     76.4       47.1        73.47   \n",
       "                                                                          \n",
       "Closing price demeaned                                                    \n",
       "Average                                      -0         -0            0   \n",
       "Standard deviation                         8.15       10.5         3.72   \n",
       "Minimum                                  -24.06     -26.95       -12.58   \n",
       "Maximum                                   14.38      24.27          7.9   \n",
       "Median                                    -1.82      -6.04        -2.46   \n",
       "                                                                          \n",
       "Percentage change in closing price                                        \n",
       "Average                                    0.06       0.06         0.02   \n",
       "                                                                          \n",
       "Volume                                                                    \n",
       "Average                             2.12546e+07             1.23974e+07   \n",
       "Standard deviation                  7.74453e+06             4.93813e+06   \n",
       "Minimum                                 6032108                 3851283   \n",
       "Maximum                                70650237                47287319   \n",
       "Median                                 18698600                12580300   \n",
       "\n",
       "                                        Chevron        Shell  \n",
       "Observations                                808          808  \n",
       "                                                              \n",
       "Closing price                                                 \n",
       "Average                                  103.47        55.26  \n",
       "Standard deviation                        13.01         9.99  \n",
       "Minimum                                   68.65        30.46  \n",
       "Maximum                                  126.12        74.53  \n",
       "Median                                   101.95        53.77  \n",
       "                                                              \n",
       "Closing price demeaned                                        \n",
       "Average                                       0           -0  \n",
       "Standard deviation                        13.01         9.99  \n",
       "Minimum                                  -34.82        -24.8  \n",
       "Maximum                                   22.65        19.28  \n",
       "Median                                    -1.51        -1.49  \n",
       "                                                              \n",
       "Percentage change in closing price                            \n",
       "Average                                    0.06         0.07  \n",
       "                                                              \n",
       "Volume                                                        \n",
       "Average                             6.74177e+06  2.11541e+06  \n",
       "Standard deviation                  2.71579e+06  1.30203e+06  \n",
       "Minimum                                 1744165       436660  \n",
       "Maximum                                26151133     15668717  \n",
       "Median                                  4950662      1167638  "
      ]
     },
     "execution_count": 132,
     "metadata": {},
     "output_type": "execute_result"
    }
   ],
   "source": [
    "TableL1 = pd.DataFrame({'Market':Observations,'Oil Market':Oil_Observations,'Exxon Mobile':Observations_XOM,'Chevron':Observations_CVX,'Shell':Observations_RDS}, index=['Observations'])\n",
    "\n",
    "TableLL = pd.DataFrame({'Market':'','Oil Market':'','Exxon Mobile':'','Chevron':'','Shell':''}, index=[''])\n",
    "\n",
    "TableL2 = pd.DataFrame({'Market':'','Oil Market':'','Exxon Mobile':'','Chevron':'','Shell':''}, index=['Closing price'])\n",
    "TableL3 = pd.DataFrame({'Market':Avg_closing_price,'Oil Market':Avg_price,'Exxon Mobile':Avg_closing_price_XOM,'Chevron':Avg_closing_price_CVX,'Shell':Avg_closing_price_RDS}, index=['Average'])\n",
    "TableL4 = pd.DataFrame({'Market':Std_closing_price,'Oil Market':Std_price,'Exxon Mobile':Std_closing_price_XOM,'Chevron':Std_closing_price_CVX,'Shell':Std_closing_price_RDS}, index=['Standard deviation'])\n",
    "TableL5 = pd.DataFrame({'Market':Min_closing_price,'Oil Market':Min_price,'Exxon Mobile':Min_closing_price_XOM,'Chevron':Min_closing_price_CVX,'Shell':Min_closing_price_RDS}, index=['Minimum'])\n",
    "TableL6 = pd.DataFrame({'Market':Max_closing_price,'Oil Market':Max_price,'Exxon Mobile':Max_closing_price_XOM,'Chevron':Max_closing_price_CVX,'Shell':Max_closing_price_RDS}, index=['Maximum'])\n",
    "TableL7 = pd.DataFrame({'Market':Median_closing_price,'Oil Market':Median_price,'Exxon Mobile':Median_closing_price_XOM,'Chevron':Median_closing_price_CVX,'Shell':Median_closing_price_RDS}, index=['Median'])\n",
    "\n",
    "TableL8 = pd.DataFrame({'Market':'','Oil Market':'','Exxon Mobile':'','Chevron':'','Shell':''}, index=['Closing price demeaned'])\n",
    "TableL9 = pd.DataFrame({'Market':Avg_closing_demeaned,'Oil Market':Avg_price_demeaned,'Exxon Mobile':Avg_closing_demeaned_XOM,'Chevron':Avg_closing_demeaned_CVX,'Shell':Avg_closing_demeaned_RDS}, index=['Average'])\n",
    "TableL10 = pd.DataFrame({'Market':Std_close_demeaned,'Oil Market':Std_price_demeaned,'Exxon Mobile':Std_close_demeaned_XOM,'Chevron':Std_close_demeaned_CVX,'Shell':Std_close_demeaned_RDS}, index=['Standard deviation'])\n",
    "TableL11 = pd.DataFrame({'Market':Min_close_demeaned,'Oil Market':Min_price_demeaned,'Exxon Mobile':Min_close_demeaned_XOM,'Chevron':Min_close_demeaned_CVX,'Shell':Min_close_demeaned_RDS}, index=['Minimum'])\n",
    "TableL12 = pd.DataFrame({'Market':Max_close_demeaned,'Oil Market':Max_price_demeaned,'Exxon Mobile':Max_close_demeaned_XOM,'Chevron':Max_close_demeaned_CVX,'Shell':Max_close_demeaned_RDS}, index=['Maximum'])\n",
    "TableL13 = pd.DataFrame({'Market':Median_closing_demeaned,'Oil Market':Median_price_demeaned,'Exxon Mobile':Median_closing_demeaned_XOM,'Chevron':Median_closing_demeaned_CVX,'Shell':Median_closing_demeaned_RDS}, index=['Median'])\n",
    "\n",
    "TableL14 = pd.DataFrame({'Market':'','Oil Market':'','Exxon Mobile':'','Chevron':'','Shell':''}, index=['Percentage change in closing price'])\n",
    "TableL15 = pd.DataFrame({'Market':Avg_percentage_change,'Oil Market':Avg_percentage_change,'Exxon Mobile':Avg_percentage_change_XOM,'Chevron':Avg_percentage_change_CVX,'Shell':Avg_percentage_change_RDS}, index=['Average'])\n",
    "\n",
    "TableL16 = pd.DataFrame({'Market':'','Oil Market':'','Exxon Mobile':'','Chevron':'','Shell':''}, index=['Volume'])\n",
    "TableL17 = pd.DataFrame({'Market':Avg_volume,'Oil Market':'','Exxon Mobile':Avg_volume_XOM,'Chevron':Avg_volume_CVX,'Shell':Avg_volume_RDS}, index=['Average'])\n",
    "TableL18 = pd.DataFrame({'Market':Std_volume,'Oil Market':'','Exxon Mobile':Std_volume_XOM,'Chevron':Std_volume_CVX,'Shell':Std_volume_RDS}, index=['Standard deviation'])\n",
    "TableL19 = pd.DataFrame({'Market':Min_volume,'Oil Market':'','Exxon Mobile':Min_volume_XOM,'Chevron':Min_volume_CVX,'Shell':Min_volume_RDS}, index=['Minimum'])\n",
    "TableL20 = pd.DataFrame({'Market':Max_volume,'Oil Market':'','Exxon Mobile':Max_volume_XOM,'Chevron':Max_volume_CVX,'Shell':Max_volume_RDS}, index=['Maximum'])\n",
    "TableL21 = pd.DataFrame({'Market':Median_volume,'Oil Market':'','Exxon Mobile':Median_volume_XOM,'Chevron':Median_volume_CVX,'Shell':Median_volume_RDS}, index=['Median'])\n",
    "\n",
    "Table1 = pd.concat([TableL1,TableLL,TableL2,TableL3,TableL4,TableL5,TableL6,TableL7,TableLL,TableL8,TableL9,TableL10,TableL11,TableL12,TableL13,TableLL,TableL14,TableL15,TableLL,TableL16,TableL17,TableL18,TableL19,TableL20,TableL21])\n",
    "\n",
    "Table1"
   ]
  },
  {
   "cell_type": "markdown",
   "metadata": {},
   "source": [
    "In the table we see that the number of observations add up since there are 808 in each of the firms dataset and 2424 in the collective dataset. Note that there are three less observations for the oil prices, indicating that the oil market has one trading day less during a year. When we look at the closing price, we see that the average closing price is highest for Chevron (104.5 dollars), which we also saw in figure 1. Shell has the lowest (average) stock price, which is 55.26 dollars. When considering the volatility we see that Chevron and Shell are more volatile than Exxon, which we also see when looking at the highest and lowest stock price in the period for each of the three firms. Here we see that the span between min and max for Exxon is much smaller than it is for Chevron and Shell. The closing price demeaned average is 0 for all firms and the standard deviation is the same as for closing price. This is due to the definitation of the variable. We also see that Chevron experienced both the highest postive change (22.87 dollars) and negative change (-35.16 dollars), although we would anticipate this since Chevron's stockprice is higher in terms of an absolute value. When we look at the average change in the closing price, we get that Shell has grown relatively more than the two other firms. Shell has an average percentage change in the closing price at 0.07% per day. Lastly, we look at the volume, where we see that Exxon is the most traded stock with an average of 12.4 billion stocks traded a day, this can be explained by the lower price compared to Chevron. The reason why Shell doesn't get traded as much could be due to the number of shares and because we only consider the B-shares. When looking at the maximum number of traded stocks, we see that one day Exxon stocks were traded 47,3 billion times, and when looking at the minimum we see that only 436.660 of the Shell stock was traded one day."
   ]
  },
  {
   "cell_type": "code",
   "execution_count": null,
   "metadata": {},
   "outputs": [],
   "source": []
  }
 ],
 "metadata": {
  "kernelspec": {
   "display_name": "Python 3",
   "language": "python",
   "name": "python3"
  },
  "language_info": {
   "codemirror_mode": {
    "name": "ipython",
    "version": 3
   },
   "file_extension": ".py",
   "mimetype": "text/x-python",
   "name": "python",
   "nbconvert_exporter": "python",
   "pygments_lexer": "ipython3",
   "version": "3.7.1"
  }
 },
 "nbformat": 4,
 "nbformat_minor": 2
}
